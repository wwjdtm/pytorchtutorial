{
  "nbformat": 4,
  "nbformat_minor": 0,
  "metadata": {
    "colab": {
      "name": "인공지능_숙제3_최종",
      "provenance": [],
      "collapsed_sections": [],
      "authorship_tag": "ABX9TyO28SLKL8qDZkuoRvHVoX5C",
      "include_colab_link": true
    },
    "kernelspec": {
      "name": "python3",
      "display_name": "Python 3"
    },
    "accelerator": "GPU",
    "widgets": {
      "application/vnd.jupyter.widget-state+json": {
        "45516560da50475fb2ef92c5adfb0e2b": {
          "model_module": "@jupyter-widgets/controls",
          "model_name": "HBoxModel",
          "state": {
            "_view_name": "HBoxView",
            "_dom_classes": [],
            "_model_name": "HBoxModel",
            "_view_module": "@jupyter-widgets/controls",
            "_model_module_version": "1.5.0",
            "_view_count": null,
            "_view_module_version": "1.5.0",
            "box_style": "",
            "layout": "IPY_MODEL_3e0dd54100ae489184f49b2c08cc0013",
            "_model_module": "@jupyter-widgets/controls",
            "children": [
              "IPY_MODEL_14304dc43ca54492bba0922a5d75d944",
              "IPY_MODEL_47c53cd2d9db44efa581f1ab22f84d9b"
            ]
          }
        },
        "3e0dd54100ae489184f49b2c08cc0013": {
          "model_module": "@jupyter-widgets/base",
          "model_name": "LayoutModel",
          "state": {
            "_view_name": "LayoutView",
            "grid_template_rows": null,
            "right": null,
            "justify_content": null,
            "_view_module": "@jupyter-widgets/base",
            "overflow": null,
            "_model_module_version": "1.2.0",
            "_view_count": null,
            "flex_flow": null,
            "width": null,
            "min_width": null,
            "border": null,
            "align_items": null,
            "bottom": null,
            "_model_module": "@jupyter-widgets/base",
            "top": null,
            "grid_column": null,
            "overflow_y": null,
            "overflow_x": null,
            "grid_auto_flow": null,
            "grid_area": null,
            "grid_template_columns": null,
            "flex": null,
            "_model_name": "LayoutModel",
            "justify_items": null,
            "grid_row": null,
            "max_height": null,
            "align_content": null,
            "visibility": null,
            "align_self": null,
            "height": null,
            "min_height": null,
            "padding": null,
            "grid_auto_rows": null,
            "grid_gap": null,
            "max_width": null,
            "order": null,
            "_view_module_version": "1.2.0",
            "grid_template_areas": null,
            "object_position": null,
            "object_fit": null,
            "grid_auto_columns": null,
            "margin": null,
            "display": null,
            "left": null
          }
        },
        "14304dc43ca54492bba0922a5d75d944": {
          "model_module": "@jupyter-widgets/controls",
          "model_name": "FloatProgressModel",
          "state": {
            "_view_name": "ProgressView",
            "style": "IPY_MODEL_1f3e1fbd85694b8f96a7367101990b2e",
            "_dom_classes": [],
            "description": "",
            "_model_name": "FloatProgressModel",
            "bar_style": "success",
            "max": 1,
            "_view_module": "@jupyter-widgets/controls",
            "_model_module_version": "1.5.0",
            "value": 1,
            "_view_count": null,
            "_view_module_version": "1.5.0",
            "orientation": "horizontal",
            "min": 0,
            "description_tooltip": null,
            "_model_module": "@jupyter-widgets/controls",
            "layout": "IPY_MODEL_63b1762212ad480b92074f15b2d77020"
          }
        },
        "47c53cd2d9db44efa581f1ab22f84d9b": {
          "model_module": "@jupyter-widgets/controls",
          "model_name": "HTMLModel",
          "state": {
            "_view_name": "HTMLView",
            "style": "IPY_MODEL_6ec21daa93be4f89b8296dc49436d55f",
            "_dom_classes": [],
            "description": "",
            "_model_name": "HTMLModel",
            "placeholder": "​",
            "_view_module": "@jupyter-widgets/controls",
            "_model_module_version": "1.5.0",
            "value": " 9920512/? [00:03&lt;00:00, 3292503.34it/s]",
            "_view_count": null,
            "_view_module_version": "1.5.0",
            "description_tooltip": null,
            "_model_module": "@jupyter-widgets/controls",
            "layout": "IPY_MODEL_ba5a5020ced34d4197e99e4d50c3d9da"
          }
        },
        "1f3e1fbd85694b8f96a7367101990b2e": {
          "model_module": "@jupyter-widgets/controls",
          "model_name": "ProgressStyleModel",
          "state": {
            "_view_name": "StyleView",
            "_model_name": "ProgressStyleModel",
            "description_width": "initial",
            "_view_module": "@jupyter-widgets/base",
            "_model_module_version": "1.5.0",
            "_view_count": null,
            "_view_module_version": "1.2.0",
            "bar_color": null,
            "_model_module": "@jupyter-widgets/controls"
          }
        },
        "63b1762212ad480b92074f15b2d77020": {
          "model_module": "@jupyter-widgets/base",
          "model_name": "LayoutModel",
          "state": {
            "_view_name": "LayoutView",
            "grid_template_rows": null,
            "right": null,
            "justify_content": null,
            "_view_module": "@jupyter-widgets/base",
            "overflow": null,
            "_model_module_version": "1.2.0",
            "_view_count": null,
            "flex_flow": null,
            "width": null,
            "min_width": null,
            "border": null,
            "align_items": null,
            "bottom": null,
            "_model_module": "@jupyter-widgets/base",
            "top": null,
            "grid_column": null,
            "overflow_y": null,
            "overflow_x": null,
            "grid_auto_flow": null,
            "grid_area": null,
            "grid_template_columns": null,
            "flex": null,
            "_model_name": "LayoutModel",
            "justify_items": null,
            "grid_row": null,
            "max_height": null,
            "align_content": null,
            "visibility": null,
            "align_self": null,
            "height": null,
            "min_height": null,
            "padding": null,
            "grid_auto_rows": null,
            "grid_gap": null,
            "max_width": null,
            "order": null,
            "_view_module_version": "1.2.0",
            "grid_template_areas": null,
            "object_position": null,
            "object_fit": null,
            "grid_auto_columns": null,
            "margin": null,
            "display": null,
            "left": null
          }
        },
        "6ec21daa93be4f89b8296dc49436d55f": {
          "model_module": "@jupyter-widgets/controls",
          "model_name": "DescriptionStyleModel",
          "state": {
            "_view_name": "StyleView",
            "_model_name": "DescriptionStyleModel",
            "description_width": "",
            "_view_module": "@jupyter-widgets/base",
            "_model_module_version": "1.5.0",
            "_view_count": null,
            "_view_module_version": "1.2.0",
            "_model_module": "@jupyter-widgets/controls"
          }
        },
        "ba5a5020ced34d4197e99e4d50c3d9da": {
          "model_module": "@jupyter-widgets/base",
          "model_name": "LayoutModel",
          "state": {
            "_view_name": "LayoutView",
            "grid_template_rows": null,
            "right": null,
            "justify_content": null,
            "_view_module": "@jupyter-widgets/base",
            "overflow": null,
            "_model_module_version": "1.2.0",
            "_view_count": null,
            "flex_flow": null,
            "width": null,
            "min_width": null,
            "border": null,
            "align_items": null,
            "bottom": null,
            "_model_module": "@jupyter-widgets/base",
            "top": null,
            "grid_column": null,
            "overflow_y": null,
            "overflow_x": null,
            "grid_auto_flow": null,
            "grid_area": null,
            "grid_template_columns": null,
            "flex": null,
            "_model_name": "LayoutModel",
            "justify_items": null,
            "grid_row": null,
            "max_height": null,
            "align_content": null,
            "visibility": null,
            "align_self": null,
            "height": null,
            "min_height": null,
            "padding": null,
            "grid_auto_rows": null,
            "grid_gap": null,
            "max_width": null,
            "order": null,
            "_view_module_version": "1.2.0",
            "grid_template_areas": null,
            "object_position": null,
            "object_fit": null,
            "grid_auto_columns": null,
            "margin": null,
            "display": null,
            "left": null
          }
        },
        "50e1dd9dd709407ea416b72b9aa06c63": {
          "model_module": "@jupyter-widgets/controls",
          "model_name": "HBoxModel",
          "state": {
            "_view_name": "HBoxView",
            "_dom_classes": [],
            "_model_name": "HBoxModel",
            "_view_module": "@jupyter-widgets/controls",
            "_model_module_version": "1.5.0",
            "_view_count": null,
            "_view_module_version": "1.5.0",
            "box_style": "",
            "layout": "IPY_MODEL_5bb5945535fd4907827aa6260f60d3e4",
            "_model_module": "@jupyter-widgets/controls",
            "children": [
              "IPY_MODEL_06bdbafa3f404fab9ac3a6e879477691",
              "IPY_MODEL_4a30a2c757b141d89a1a57f086c279e6"
            ]
          }
        },
        "5bb5945535fd4907827aa6260f60d3e4": {
          "model_module": "@jupyter-widgets/base",
          "model_name": "LayoutModel",
          "state": {
            "_view_name": "LayoutView",
            "grid_template_rows": null,
            "right": null,
            "justify_content": null,
            "_view_module": "@jupyter-widgets/base",
            "overflow": null,
            "_model_module_version": "1.2.0",
            "_view_count": null,
            "flex_flow": null,
            "width": null,
            "min_width": null,
            "border": null,
            "align_items": null,
            "bottom": null,
            "_model_module": "@jupyter-widgets/base",
            "top": null,
            "grid_column": null,
            "overflow_y": null,
            "overflow_x": null,
            "grid_auto_flow": null,
            "grid_area": null,
            "grid_template_columns": null,
            "flex": null,
            "_model_name": "LayoutModel",
            "justify_items": null,
            "grid_row": null,
            "max_height": null,
            "align_content": null,
            "visibility": null,
            "align_self": null,
            "height": null,
            "min_height": null,
            "padding": null,
            "grid_auto_rows": null,
            "grid_gap": null,
            "max_width": null,
            "order": null,
            "_view_module_version": "1.2.0",
            "grid_template_areas": null,
            "object_position": null,
            "object_fit": null,
            "grid_auto_columns": null,
            "margin": null,
            "display": null,
            "left": null
          }
        },
        "06bdbafa3f404fab9ac3a6e879477691": {
          "model_module": "@jupyter-widgets/controls",
          "model_name": "FloatProgressModel",
          "state": {
            "_view_name": "ProgressView",
            "style": "IPY_MODEL_6bb311ec930d4704b60f5d974c30f108",
            "_dom_classes": [],
            "description": "",
            "_model_name": "FloatProgressModel",
            "bar_style": "success",
            "max": 1,
            "_view_module": "@jupyter-widgets/controls",
            "_model_module_version": "1.5.0",
            "value": 1,
            "_view_count": null,
            "_view_module_version": "1.5.0",
            "orientation": "horizontal",
            "min": 0,
            "description_tooltip": null,
            "_model_module": "@jupyter-widgets/controls",
            "layout": "IPY_MODEL_0289879f9b7a4d759beb4d3785ed7866"
          }
        },
        "4a30a2c757b141d89a1a57f086c279e6": {
          "model_module": "@jupyter-widgets/controls",
          "model_name": "HTMLModel",
          "state": {
            "_view_name": "HTMLView",
            "style": "IPY_MODEL_15ff96a1148c492391cc2cc3defaeff5",
            "_dom_classes": [],
            "description": "",
            "_model_name": "HTMLModel",
            "placeholder": "​",
            "_view_module": "@jupyter-widgets/controls",
            "_model_module_version": "1.5.0",
            "value": " 32768/? [00:00&lt;00:00, 112075.85it/s]",
            "_view_count": null,
            "_view_module_version": "1.5.0",
            "description_tooltip": null,
            "_model_module": "@jupyter-widgets/controls",
            "layout": "IPY_MODEL_fcc5175a18f740a19935eac568d00f59"
          }
        },
        "6bb311ec930d4704b60f5d974c30f108": {
          "model_module": "@jupyter-widgets/controls",
          "model_name": "ProgressStyleModel",
          "state": {
            "_view_name": "StyleView",
            "_model_name": "ProgressStyleModel",
            "description_width": "initial",
            "_view_module": "@jupyter-widgets/base",
            "_model_module_version": "1.5.0",
            "_view_count": null,
            "_view_module_version": "1.2.0",
            "bar_color": null,
            "_model_module": "@jupyter-widgets/controls"
          }
        },
        "0289879f9b7a4d759beb4d3785ed7866": {
          "model_module": "@jupyter-widgets/base",
          "model_name": "LayoutModel",
          "state": {
            "_view_name": "LayoutView",
            "grid_template_rows": null,
            "right": null,
            "justify_content": null,
            "_view_module": "@jupyter-widgets/base",
            "overflow": null,
            "_model_module_version": "1.2.0",
            "_view_count": null,
            "flex_flow": null,
            "width": null,
            "min_width": null,
            "border": null,
            "align_items": null,
            "bottom": null,
            "_model_module": "@jupyter-widgets/base",
            "top": null,
            "grid_column": null,
            "overflow_y": null,
            "overflow_x": null,
            "grid_auto_flow": null,
            "grid_area": null,
            "grid_template_columns": null,
            "flex": null,
            "_model_name": "LayoutModel",
            "justify_items": null,
            "grid_row": null,
            "max_height": null,
            "align_content": null,
            "visibility": null,
            "align_self": null,
            "height": null,
            "min_height": null,
            "padding": null,
            "grid_auto_rows": null,
            "grid_gap": null,
            "max_width": null,
            "order": null,
            "_view_module_version": "1.2.0",
            "grid_template_areas": null,
            "object_position": null,
            "object_fit": null,
            "grid_auto_columns": null,
            "margin": null,
            "display": null,
            "left": null
          }
        },
        "15ff96a1148c492391cc2cc3defaeff5": {
          "model_module": "@jupyter-widgets/controls",
          "model_name": "DescriptionStyleModel",
          "state": {
            "_view_name": "StyleView",
            "_model_name": "DescriptionStyleModel",
            "description_width": "",
            "_view_module": "@jupyter-widgets/base",
            "_model_module_version": "1.5.0",
            "_view_count": null,
            "_view_module_version": "1.2.0",
            "_model_module": "@jupyter-widgets/controls"
          }
        },
        "fcc5175a18f740a19935eac568d00f59": {
          "model_module": "@jupyter-widgets/base",
          "model_name": "LayoutModel",
          "state": {
            "_view_name": "LayoutView",
            "grid_template_rows": null,
            "right": null,
            "justify_content": null,
            "_view_module": "@jupyter-widgets/base",
            "overflow": null,
            "_model_module_version": "1.2.0",
            "_view_count": null,
            "flex_flow": null,
            "width": null,
            "min_width": null,
            "border": null,
            "align_items": null,
            "bottom": null,
            "_model_module": "@jupyter-widgets/base",
            "top": null,
            "grid_column": null,
            "overflow_y": null,
            "overflow_x": null,
            "grid_auto_flow": null,
            "grid_area": null,
            "grid_template_columns": null,
            "flex": null,
            "_model_name": "LayoutModel",
            "justify_items": null,
            "grid_row": null,
            "max_height": null,
            "align_content": null,
            "visibility": null,
            "align_self": null,
            "height": null,
            "min_height": null,
            "padding": null,
            "grid_auto_rows": null,
            "grid_gap": null,
            "max_width": null,
            "order": null,
            "_view_module_version": "1.2.0",
            "grid_template_areas": null,
            "object_position": null,
            "object_fit": null,
            "grid_auto_columns": null,
            "margin": null,
            "display": null,
            "left": null
          }
        },
        "b258603a33c64278ba5fb9066da21a55": {
          "model_module": "@jupyter-widgets/controls",
          "model_name": "HBoxModel",
          "state": {
            "_view_name": "HBoxView",
            "_dom_classes": [],
            "_model_name": "HBoxModel",
            "_view_module": "@jupyter-widgets/controls",
            "_model_module_version": "1.5.0",
            "_view_count": null,
            "_view_module_version": "1.5.0",
            "box_style": "",
            "layout": "IPY_MODEL_af4db8ac80e44abd9774d4486b6a930d",
            "_model_module": "@jupyter-widgets/controls",
            "children": [
              "IPY_MODEL_1069b479768641c986cbef0612988d94",
              "IPY_MODEL_2343aacf29e04795aebae4e054fb91b3"
            ]
          }
        },
        "af4db8ac80e44abd9774d4486b6a930d": {
          "model_module": "@jupyter-widgets/base",
          "model_name": "LayoutModel",
          "state": {
            "_view_name": "LayoutView",
            "grid_template_rows": null,
            "right": null,
            "justify_content": null,
            "_view_module": "@jupyter-widgets/base",
            "overflow": null,
            "_model_module_version": "1.2.0",
            "_view_count": null,
            "flex_flow": null,
            "width": null,
            "min_width": null,
            "border": null,
            "align_items": null,
            "bottom": null,
            "_model_module": "@jupyter-widgets/base",
            "top": null,
            "grid_column": null,
            "overflow_y": null,
            "overflow_x": null,
            "grid_auto_flow": null,
            "grid_area": null,
            "grid_template_columns": null,
            "flex": null,
            "_model_name": "LayoutModel",
            "justify_items": null,
            "grid_row": null,
            "max_height": null,
            "align_content": null,
            "visibility": null,
            "align_self": null,
            "height": null,
            "min_height": null,
            "padding": null,
            "grid_auto_rows": null,
            "grid_gap": null,
            "max_width": null,
            "order": null,
            "_view_module_version": "1.2.0",
            "grid_template_areas": null,
            "object_position": null,
            "object_fit": null,
            "grid_auto_columns": null,
            "margin": null,
            "display": null,
            "left": null
          }
        },
        "1069b479768641c986cbef0612988d94": {
          "model_module": "@jupyter-widgets/controls",
          "model_name": "FloatProgressModel",
          "state": {
            "_view_name": "ProgressView",
            "style": "IPY_MODEL_b88905252b7e40fb98f334d259d8fe0c",
            "_dom_classes": [],
            "description": "",
            "_model_name": "FloatProgressModel",
            "bar_style": "success",
            "max": 1,
            "_view_module": "@jupyter-widgets/controls",
            "_model_module_version": "1.5.0",
            "value": 1,
            "_view_count": null,
            "_view_module_version": "1.5.0",
            "orientation": "horizontal",
            "min": 0,
            "description_tooltip": null,
            "_model_module": "@jupyter-widgets/controls",
            "layout": "IPY_MODEL_1314efc7bb0e490f8ccf4f4a44575141"
          }
        },
        "2343aacf29e04795aebae4e054fb91b3": {
          "model_module": "@jupyter-widgets/controls",
          "model_name": "HTMLModel",
          "state": {
            "_view_name": "HTMLView",
            "style": "IPY_MODEL_9fd5b3cf1a5e428b82e044fc3a68a4f8",
            "_dom_classes": [],
            "description": "",
            "_model_name": "HTMLModel",
            "placeholder": "​",
            "_view_module": "@jupyter-widgets/controls",
            "_model_module_version": "1.5.0",
            "value": " 1654784/? [00:01&lt;00:00, 1251131.30it/s]",
            "_view_count": null,
            "_view_module_version": "1.5.0",
            "description_tooltip": null,
            "_model_module": "@jupyter-widgets/controls",
            "layout": "IPY_MODEL_685da65f43224891a6c5509d36b5482b"
          }
        },
        "b88905252b7e40fb98f334d259d8fe0c": {
          "model_module": "@jupyter-widgets/controls",
          "model_name": "ProgressStyleModel",
          "state": {
            "_view_name": "StyleView",
            "_model_name": "ProgressStyleModel",
            "description_width": "initial",
            "_view_module": "@jupyter-widgets/base",
            "_model_module_version": "1.5.0",
            "_view_count": null,
            "_view_module_version": "1.2.0",
            "bar_color": null,
            "_model_module": "@jupyter-widgets/controls"
          }
        },
        "1314efc7bb0e490f8ccf4f4a44575141": {
          "model_module": "@jupyter-widgets/base",
          "model_name": "LayoutModel",
          "state": {
            "_view_name": "LayoutView",
            "grid_template_rows": null,
            "right": null,
            "justify_content": null,
            "_view_module": "@jupyter-widgets/base",
            "overflow": null,
            "_model_module_version": "1.2.0",
            "_view_count": null,
            "flex_flow": null,
            "width": null,
            "min_width": null,
            "border": null,
            "align_items": null,
            "bottom": null,
            "_model_module": "@jupyter-widgets/base",
            "top": null,
            "grid_column": null,
            "overflow_y": null,
            "overflow_x": null,
            "grid_auto_flow": null,
            "grid_area": null,
            "grid_template_columns": null,
            "flex": null,
            "_model_name": "LayoutModel",
            "justify_items": null,
            "grid_row": null,
            "max_height": null,
            "align_content": null,
            "visibility": null,
            "align_self": null,
            "height": null,
            "min_height": null,
            "padding": null,
            "grid_auto_rows": null,
            "grid_gap": null,
            "max_width": null,
            "order": null,
            "_view_module_version": "1.2.0",
            "grid_template_areas": null,
            "object_position": null,
            "object_fit": null,
            "grid_auto_columns": null,
            "margin": null,
            "display": null,
            "left": null
          }
        },
        "9fd5b3cf1a5e428b82e044fc3a68a4f8": {
          "model_module": "@jupyter-widgets/controls",
          "model_name": "DescriptionStyleModel",
          "state": {
            "_view_name": "StyleView",
            "_model_name": "DescriptionStyleModel",
            "description_width": "",
            "_view_module": "@jupyter-widgets/base",
            "_model_module_version": "1.5.0",
            "_view_count": null,
            "_view_module_version": "1.2.0",
            "_model_module": "@jupyter-widgets/controls"
          }
        },
        "685da65f43224891a6c5509d36b5482b": {
          "model_module": "@jupyter-widgets/base",
          "model_name": "LayoutModel",
          "state": {
            "_view_name": "LayoutView",
            "grid_template_rows": null,
            "right": null,
            "justify_content": null,
            "_view_module": "@jupyter-widgets/base",
            "overflow": null,
            "_model_module_version": "1.2.0",
            "_view_count": null,
            "flex_flow": null,
            "width": null,
            "min_width": null,
            "border": null,
            "align_items": null,
            "bottom": null,
            "_model_module": "@jupyter-widgets/base",
            "top": null,
            "grid_column": null,
            "overflow_y": null,
            "overflow_x": null,
            "grid_auto_flow": null,
            "grid_area": null,
            "grid_template_columns": null,
            "flex": null,
            "_model_name": "LayoutModel",
            "justify_items": null,
            "grid_row": null,
            "max_height": null,
            "align_content": null,
            "visibility": null,
            "align_self": null,
            "height": null,
            "min_height": null,
            "padding": null,
            "grid_auto_rows": null,
            "grid_gap": null,
            "max_width": null,
            "order": null,
            "_view_module_version": "1.2.0",
            "grid_template_areas": null,
            "object_position": null,
            "object_fit": null,
            "grid_auto_columns": null,
            "margin": null,
            "display": null,
            "left": null
          }
        },
        "8ab45a2997234172b9632775b0c2c6a4": {
          "model_module": "@jupyter-widgets/controls",
          "model_name": "HBoxModel",
          "state": {
            "_view_name": "HBoxView",
            "_dom_classes": [],
            "_model_name": "HBoxModel",
            "_view_module": "@jupyter-widgets/controls",
            "_model_module_version": "1.5.0",
            "_view_count": null,
            "_view_module_version": "1.5.0",
            "box_style": "",
            "layout": "IPY_MODEL_08f45ac66009453783f349e2fa849e5b",
            "_model_module": "@jupyter-widgets/controls",
            "children": [
              "IPY_MODEL_381b2778124e447ba7aa4ae8effb4b65",
              "IPY_MODEL_88dae2b4a3a04d90b760627a2e39410d"
            ]
          }
        },
        "08f45ac66009453783f349e2fa849e5b": {
          "model_module": "@jupyter-widgets/base",
          "model_name": "LayoutModel",
          "state": {
            "_view_name": "LayoutView",
            "grid_template_rows": null,
            "right": null,
            "justify_content": null,
            "_view_module": "@jupyter-widgets/base",
            "overflow": null,
            "_model_module_version": "1.2.0",
            "_view_count": null,
            "flex_flow": null,
            "width": null,
            "min_width": null,
            "border": null,
            "align_items": null,
            "bottom": null,
            "_model_module": "@jupyter-widgets/base",
            "top": null,
            "grid_column": null,
            "overflow_y": null,
            "overflow_x": null,
            "grid_auto_flow": null,
            "grid_area": null,
            "grid_template_columns": null,
            "flex": null,
            "_model_name": "LayoutModel",
            "justify_items": null,
            "grid_row": null,
            "max_height": null,
            "align_content": null,
            "visibility": null,
            "align_self": null,
            "height": null,
            "min_height": null,
            "padding": null,
            "grid_auto_rows": null,
            "grid_gap": null,
            "max_width": null,
            "order": null,
            "_view_module_version": "1.2.0",
            "grid_template_areas": null,
            "object_position": null,
            "object_fit": null,
            "grid_auto_columns": null,
            "margin": null,
            "display": null,
            "left": null
          }
        },
        "381b2778124e447ba7aa4ae8effb4b65": {
          "model_module": "@jupyter-widgets/controls",
          "model_name": "FloatProgressModel",
          "state": {
            "_view_name": "ProgressView",
            "style": "IPY_MODEL_2ace274d80674e65aaac903de3dc613d",
            "_dom_classes": [],
            "description": "",
            "_model_name": "FloatProgressModel",
            "bar_style": "success",
            "max": 1,
            "_view_module": "@jupyter-widgets/controls",
            "_model_module_version": "1.5.0",
            "value": 1,
            "_view_count": null,
            "_view_module_version": "1.5.0",
            "orientation": "horizontal",
            "min": 0,
            "description_tooltip": null,
            "_model_module": "@jupyter-widgets/controls",
            "layout": "IPY_MODEL_2580b16a203a474e9989e32b5821f6b3"
          }
        },
        "88dae2b4a3a04d90b760627a2e39410d": {
          "model_module": "@jupyter-widgets/controls",
          "model_name": "HTMLModel",
          "state": {
            "_view_name": "HTMLView",
            "style": "IPY_MODEL_be123c30db8342a68ef55318f2639f84",
            "_dom_classes": [],
            "description": "",
            "_model_name": "HTMLModel",
            "placeholder": "​",
            "_view_module": "@jupyter-widgets/controls",
            "_model_module_version": "1.5.0",
            "value": " 8192/? [00:00&lt;00:00, 18852.44it/s]",
            "_view_count": null,
            "_view_module_version": "1.5.0",
            "description_tooltip": null,
            "_model_module": "@jupyter-widgets/controls",
            "layout": "IPY_MODEL_afe98e55fa7b4e9aa136ae59b2d870d7"
          }
        },
        "2ace274d80674e65aaac903de3dc613d": {
          "model_module": "@jupyter-widgets/controls",
          "model_name": "ProgressStyleModel",
          "state": {
            "_view_name": "StyleView",
            "_model_name": "ProgressStyleModel",
            "description_width": "initial",
            "_view_module": "@jupyter-widgets/base",
            "_model_module_version": "1.5.0",
            "_view_count": null,
            "_view_module_version": "1.2.0",
            "bar_color": null,
            "_model_module": "@jupyter-widgets/controls"
          }
        },
        "2580b16a203a474e9989e32b5821f6b3": {
          "model_module": "@jupyter-widgets/base",
          "model_name": "LayoutModel",
          "state": {
            "_view_name": "LayoutView",
            "grid_template_rows": null,
            "right": null,
            "justify_content": null,
            "_view_module": "@jupyter-widgets/base",
            "overflow": null,
            "_model_module_version": "1.2.0",
            "_view_count": null,
            "flex_flow": null,
            "width": null,
            "min_width": null,
            "border": null,
            "align_items": null,
            "bottom": null,
            "_model_module": "@jupyter-widgets/base",
            "top": null,
            "grid_column": null,
            "overflow_y": null,
            "overflow_x": null,
            "grid_auto_flow": null,
            "grid_area": null,
            "grid_template_columns": null,
            "flex": null,
            "_model_name": "LayoutModel",
            "justify_items": null,
            "grid_row": null,
            "max_height": null,
            "align_content": null,
            "visibility": null,
            "align_self": null,
            "height": null,
            "min_height": null,
            "padding": null,
            "grid_auto_rows": null,
            "grid_gap": null,
            "max_width": null,
            "order": null,
            "_view_module_version": "1.2.0",
            "grid_template_areas": null,
            "object_position": null,
            "object_fit": null,
            "grid_auto_columns": null,
            "margin": null,
            "display": null,
            "left": null
          }
        },
        "be123c30db8342a68ef55318f2639f84": {
          "model_module": "@jupyter-widgets/controls",
          "model_name": "DescriptionStyleModel",
          "state": {
            "_view_name": "StyleView",
            "_model_name": "DescriptionStyleModel",
            "description_width": "",
            "_view_module": "@jupyter-widgets/base",
            "_model_module_version": "1.5.0",
            "_view_count": null,
            "_view_module_version": "1.2.0",
            "_model_module": "@jupyter-widgets/controls"
          }
        },
        "afe98e55fa7b4e9aa136ae59b2d870d7": {
          "model_module": "@jupyter-widgets/base",
          "model_name": "LayoutModel",
          "state": {
            "_view_name": "LayoutView",
            "grid_template_rows": null,
            "right": null,
            "justify_content": null,
            "_view_module": "@jupyter-widgets/base",
            "overflow": null,
            "_model_module_version": "1.2.0",
            "_view_count": null,
            "flex_flow": null,
            "width": null,
            "min_width": null,
            "border": null,
            "align_items": null,
            "bottom": null,
            "_model_module": "@jupyter-widgets/base",
            "top": null,
            "grid_column": null,
            "overflow_y": null,
            "overflow_x": null,
            "grid_auto_flow": null,
            "grid_area": null,
            "grid_template_columns": null,
            "flex": null,
            "_model_name": "LayoutModel",
            "justify_items": null,
            "grid_row": null,
            "max_height": null,
            "align_content": null,
            "visibility": null,
            "align_self": null,
            "height": null,
            "min_height": null,
            "padding": null,
            "grid_auto_rows": null,
            "grid_gap": null,
            "max_width": null,
            "order": null,
            "_view_module_version": "1.2.0",
            "grid_template_areas": null,
            "object_position": null,
            "object_fit": null,
            "grid_auto_columns": null,
            "margin": null,
            "display": null,
            "left": null
          }
        }
      }
    }
  },
  "cells": [
    {
      "cell_type": "markdown",
      "metadata": {
        "id": "view-in-github",
        "colab_type": "text"
      },
      "source": [
        "<a href=\"https://colab.research.google.com/github/wwjdtm/pytorchtutorial/blob/main/%EC%9D%B8%EA%B3%B5%EC%A7%80%EB%8A%A5_%EC%88%99%EC%A0%9C3_%EC%B5%9C%EC%A2%85.ipynb\" target=\"_parent\"><img src=\"https://colab.research.google.com/assets/colab-badge.svg\" alt=\"Open In Colab\"/></a>"
      ]
    },
    {
      "cell_type": "markdown",
      "metadata": {
        "id": "tC2FOsNmPyLN"
      },
      "source": [
        "1. [영상 인식] 다음 코드를 무엇을 의미하는지 이해하고 실행하여 결과를 확인하세요. (10점) \n",
        "(코드의 해석과 결과의 의미를 작성하세요.)"
      ]
    },
    {
      "cell_type": "code",
      "metadata": {
        "colab": {
          "base_uri": "https://localhost:8080/",
          "height": 672,
          "referenced_widgets": [
            "45516560da50475fb2ef92c5adfb0e2b",
            "3e0dd54100ae489184f49b2c08cc0013",
            "14304dc43ca54492bba0922a5d75d944",
            "47c53cd2d9db44efa581f1ab22f84d9b",
            "1f3e1fbd85694b8f96a7367101990b2e",
            "63b1762212ad480b92074f15b2d77020",
            "6ec21daa93be4f89b8296dc49436d55f",
            "ba5a5020ced34d4197e99e4d50c3d9da",
            "50e1dd9dd709407ea416b72b9aa06c63",
            "5bb5945535fd4907827aa6260f60d3e4",
            "06bdbafa3f404fab9ac3a6e879477691",
            "4a30a2c757b141d89a1a57f086c279e6",
            "6bb311ec930d4704b60f5d974c30f108",
            "0289879f9b7a4d759beb4d3785ed7866",
            "15ff96a1148c492391cc2cc3defaeff5",
            "fcc5175a18f740a19935eac568d00f59",
            "b258603a33c64278ba5fb9066da21a55",
            "af4db8ac80e44abd9774d4486b6a930d",
            "1069b479768641c986cbef0612988d94",
            "2343aacf29e04795aebae4e054fb91b3",
            "b88905252b7e40fb98f334d259d8fe0c",
            "1314efc7bb0e490f8ccf4f4a44575141",
            "9fd5b3cf1a5e428b82e044fc3a68a4f8",
            "685da65f43224891a6c5509d36b5482b",
            "8ab45a2997234172b9632775b0c2c6a4",
            "08f45ac66009453783f349e2fa849e5b",
            "381b2778124e447ba7aa4ae8effb4b65",
            "88dae2b4a3a04d90b760627a2e39410d",
            "2ace274d80674e65aaac903de3dc613d",
            "2580b16a203a474e9989e32b5821f6b3",
            "be123c30db8342a68ef55318f2639f84",
            "afe98e55fa7b4e9aa136ae59b2d870d7"
          ]
        },
        "id": "anrUzFPsIwl-",
        "outputId": "66790723-f03a-46eb-efc9-6de58d2fe87d"
      },
      "source": [
        "import torch\n",
        "import torch.nn as nn\n",
        "import torch.nn.functional as F\n",
        "import torch.optim as optim\n",
        "from torchvision import datasets,transforms \n",
        "from torch.autograd import Variable\n",
        "import matplotlib.pyplot as plt\n",
        "%matplotlib inline\n",
        "is_cuda = False\n",
        "if torch.cuda.is_available():\n",
        "  is_cuda = True\n",
        "\n",
        "transformation = transforms.Compose([transforms.ToTensor(),transforms.Normalize((0.1307,), (0.3081,))])\n",
        "train_dataset = datasets.MNIST('data/',train=True,transform=transformation,download=True) \n",
        "test_dataset = datasets.MNIST('data/',train=False,transform=transformation,download=True)\n",
        "train_loader = torch.utils.data.DataLoader(train_dataset,batch_size=32,shuffle=True) \n",
        "test_loader = torch.utils.data.DataLoader(test_dataset,batch_size=32,shuffle=True)\n",
        "sample_data = next(iter(train_loader))\n",
        "\n",
        "def plot_img(image):\n",
        "  image = image.numpy()[0]\n",
        "  mean = 0.1307\n",
        "  std = 0.3081\n",
        "  image = ((mean * image) + std) \n",
        "  plt.imshow(image,cmap='gray')\n",
        "\n",
        "plot_img(sample_data[0][2]) \n",
        "plot_img(sample_data[0][1])\n",
        "# (1) 화면 출력 확인"
      ],
      "execution_count": null,
      "outputs": [
        {
          "output_type": "stream",
          "text": [
            "Downloading http://yann.lecun.com/exdb/mnist/train-images-idx3-ubyte.gz to data/MNIST/raw/train-images-idx3-ubyte.gz\n"
          ],
          "name": "stdout"
        },
        {
          "output_type": "display_data",
          "data": {
            "application/vnd.jupyter.widget-view+json": {
              "model_id": "45516560da50475fb2ef92c5adfb0e2b",
              "version_minor": 0,
              "version_major": 2
            },
            "text/plain": [
              "HBox(children=(FloatProgress(value=1.0, bar_style='info', max=1.0), HTML(value='')))"
            ]
          },
          "metadata": {
            "tags": []
          }
        },
        {
          "output_type": "stream",
          "text": [
            "Extracting data/MNIST/raw/train-images-idx3-ubyte.gz to data/MNIST/raw\n",
            "Downloading http://yann.lecun.com/exdb/mnist/train-labels-idx1-ubyte.gz to data/MNIST/raw/train-labels-idx1-ubyte.gz\n"
          ],
          "name": "stdout"
        },
        {
          "output_type": "display_data",
          "data": {
            "application/vnd.jupyter.widget-view+json": {
              "model_id": "50e1dd9dd709407ea416b72b9aa06c63",
              "version_minor": 0,
              "version_major": 2
            },
            "text/plain": [
              "HBox(children=(FloatProgress(value=1.0, bar_style='info', max=1.0), HTML(value='')))"
            ]
          },
          "metadata": {
            "tags": []
          }
        },
        {
          "output_type": "stream",
          "text": [
            "Extracting data/MNIST/raw/train-labels-idx1-ubyte.gz to data/MNIST/raw\n",
            "Downloading http://yann.lecun.com/exdb/mnist/t10k-images-idx3-ubyte.gz to data/MNIST/raw/t10k-images-idx3-ubyte.gz\n",
            "\n"
          ],
          "name": "stdout"
        },
        {
          "output_type": "display_data",
          "data": {
            "application/vnd.jupyter.widget-view+json": {
              "model_id": "b258603a33c64278ba5fb9066da21a55",
              "version_minor": 0,
              "version_major": 2
            },
            "text/plain": [
              "HBox(children=(FloatProgress(value=1.0, bar_style='info', max=1.0), HTML(value='')))"
            ]
          },
          "metadata": {
            "tags": []
          }
        },
        {
          "output_type": "stream",
          "text": [
            "Extracting data/MNIST/raw/t10k-images-idx3-ubyte.gz to data/MNIST/raw\n",
            "Downloading http://yann.lecun.com/exdb/mnist/t10k-labels-idx1-ubyte.gz to data/MNIST/raw/t10k-labels-idx1-ubyte.gz\n"
          ],
          "name": "stdout"
        },
        {
          "output_type": "display_data",
          "data": {
            "application/vnd.jupyter.widget-view+json": {
              "model_id": "8ab45a2997234172b9632775b0c2c6a4",
              "version_minor": 0,
              "version_major": 2
            },
            "text/plain": [
              "HBox(children=(FloatProgress(value=1.0, bar_style='info', max=1.0), HTML(value='')))"
            ]
          },
          "metadata": {
            "tags": []
          }
        },
        {
          "output_type": "stream",
          "text": [
            "Extracting data/MNIST/raw/t10k-labels-idx1-ubyte.gz to data/MNIST/raw\n",
            "Processing...\n",
            "Done!\n"
          ],
          "name": "stdout"
        },
        {
          "output_type": "stream",
          "text": [
            "/usr/local/lib/python3.6/dist-packages/torchvision/datasets/mnist.py:480: UserWarning: The given NumPy array is not writeable, and PyTorch does not support non-writeable tensors. This means you can write to the underlying (supposedly non-writeable) NumPy array using the tensor. You may want to copy the array to protect its data or make it writeable before converting it to a tensor. This type of warning will be suppressed for the rest of this program. (Triggered internally at  /pytorch/torch/csrc/utils/tensor_numpy.cpp:141.)\n",
            "  return torch.from_numpy(parsed.astype(m[2], copy=False)).view(*s)\n"
          ],
          "name": "stderr"
        },
        {
          "output_type": "stream",
          "text": [
            "\n"
          ],
          "name": "stdout"
        },
        {
          "output_type": "display_data",
          "data": {
            "image/png": "[encoded data removed]",
            "text/plain": [
              "<Figure size 432x288 with 1 Axes>"
            ]
          },
          "metadata": {
            "tags": [],
            "needs_background": "light"
          }
        },
        {
          "output_type": "stream",
          "text": [
            "\n",
            "\n"
          ],
          "name": "stdout"
        }
      ]
    },
    {
      "cell_type": "code",
      "metadata": {
        "colab": {
          "base_uri": "https://localhost:8080/",
          "height": 265
        },
        "id": "O3ooODOoC22v",
        "outputId": "c8648bff-99f0-4309-948d-ce5e081a1c88"
      },
      "source": [
        ""
      ],
      "execution_count": null,
      "outputs": [
        {
          "output_type": "display_data",
          "data": {
            "image/png": "[encoded data removed]",
            "text/plain": [
              "<Figure size 432x288 with 1 Axes>"
            ]
          },
          "metadata": {
            "tags": [],
            "needs_background": "light"
          }
        }
      ]
    },
    {
      "cell_type": "code",
      "metadata": {
        "colab": {
          "base_uri": "https://localhost:8080/"
        },
        "id": "Ts2mNmc_J_L5",
        "outputId": "e4b00a38-94a7-47fa-f65e-33cd3f412aa9"
      },
      "source": [
        "class Net(nn.Module):\n",
        "  def __init__(self):\n",
        "    super().__init__()\n",
        "    self.conv1 = nn.Conv2d(1, 10, kernel_size=5) \n",
        "    self.conv2 = nn.Conv2d(10, 20, kernel_size=5) \n",
        "    self.conv2_drop = nn.Dropout2d(p=0.1) \n",
        "    self.fc1 = nn.Linear(320, 50)\n",
        "    self.fc2 = nn.Linear(50, 10)\n",
        "\n",
        "  def forward(self, x):\n",
        "    x = F.relu(F.max_pool2d(self.conv1(x), 2))\n",
        "    x = F.relu(F.max_pool2d(self.conv2_drop(self.conv2(x)), 2)) \n",
        "    x = x.view(-1, 320)\n",
        "    x = F.relu(self.fc1(x))\n",
        "    #x = F.dropout(x,p=0.1, training=self.training)\n",
        "\n",
        "    x = self.fc2(x)\n",
        "    return F.log_softmax(x,dim=1)\n",
        "    \n",
        "\n",
        "model = Net() \n",
        "if is_cuda:\n",
        "  model.cuda()\n",
        "\n",
        "optimizer = optim.SGD(model.parameters(),lr=0.001) \n",
        "data , target = next(iter(train_loader))\n",
        "output = model(Variable(data.cuda()))\n",
        "print(data.size()) #[batch_size, channels, height, width]\n",
        "print(data)\n",
        "print(output.size())\n",
        "print(output)\n",
        "print(target.size())\n",
        "print(target)\n",
        "# (2) output.size() , target.size() 출력 확인"
      ],
      "execution_count": null,
      "outputs": [
        {
          "output_type": "stream",
          "text": [
            "torch.Size([32, 1, 28, 28])\n",
            "tensor([[[[-0.4242, -0.4242, -0.4242,  ..., -0.4242, -0.4242, -0.4242],\n",
            "          [-0.4242, -0.4242, -0.4242,  ..., -0.4242, -0.4242, -0.4242],\n",
            "          [-0.4242, -0.4242, -0.4242,  ..., -0.4242, -0.4242, -0.4242],\n",
            "          ...,\n",
            "          [-0.4242, -0.4242, -0.4242,  ..., -0.4242, -0.4242, -0.4242],\n",
            "          [-0.4242, -0.4242, -0.4242,  ..., -0.4242, -0.4242, -0.4242],\n",
            "          [-0.4242, -0.4242, -0.4242,  ..., -0.4242, -0.4242, -0.4242]]],\n",
            "\n",
            "\n",
            "        [[[-0.4242, -0.4242, -0.4242,  ..., -0.4242, -0.4242, -0.4242],\n",
            "          [-0.4242, -0.4242, -0.4242,  ..., -0.4242, -0.4242, -0.4242],\n",
            "          [-0.4242, -0.4242, -0.4242,  ..., -0.4242, -0.4242, -0.4242],\n",
            "          ...,\n",
            "          [-0.4242, -0.4242, -0.4242,  ..., -0.4242, -0.4242, -0.4242],\n",
            "          [-0.4242, -0.4242, -0.4242,  ..., -0.4242, -0.4242, -0.4242],\n",
            "          [-0.4242, -0.4242, -0.4242,  ..., -0.4242, -0.4242, -0.4242]]],\n",
            "\n",
            "\n",
            "        [[[-0.4242, -0.4242, -0.4242,  ..., -0.4242, -0.4242, -0.4242],\n",
            "          [-0.4242, -0.4242, -0.4242,  ..., -0.4242, -0.4242, -0.4242],\n",
            "          [-0.4242, -0.4242, -0.4242,  ..., -0.4242, -0.4242, -0.4242],\n",
            "          ...,\n",
            "          [-0.4242, -0.4242, -0.4242,  ..., -0.4242, -0.4242, -0.4242],\n",
            "          [-0.4242, -0.4242, -0.4242,  ..., -0.4242, -0.4242, -0.4242],\n",
            "          [-0.4242, -0.4242, -0.4242,  ..., -0.4242, -0.4242, -0.4242]]],\n",
            "\n",
            "\n",
            "        ...,\n",
            "\n",
            "\n",
            "        [[[-0.4242, -0.4242, -0.4242,  ..., -0.4242, -0.4242, -0.4242],\n",
            "          [-0.4242, -0.4242, -0.4242,  ..., -0.4242, -0.4242, -0.4242],\n",
            "          [-0.4242, -0.4242, -0.4242,  ..., -0.4242, -0.4242, -0.4242],\n",
            "          ...,\n",
            "          [-0.4242, -0.4242, -0.4242,  ..., -0.4242, -0.4242, -0.4242],\n",
            "          [-0.4242, -0.4242, -0.4242,  ..., -0.4242, -0.4242, -0.4242],\n",
            "          [-0.4242, -0.4242, -0.4242,  ..., -0.4242, -0.4242, -0.4242]]],\n",
            "\n",
            "\n",
            "        [[[-0.4242, -0.4242, -0.4242,  ..., -0.4242, -0.4242, -0.4242],\n",
            "          [-0.4242, -0.4242, -0.4242,  ..., -0.4242, -0.4242, -0.4242],\n",
            "          [-0.4242, -0.4242, -0.4242,  ..., -0.4242, -0.4242, -0.4242],\n",
            "          ...,\n",
            "          [-0.4242, -0.4242, -0.4242,  ..., -0.4242, -0.4242, -0.4242],\n",
            "          [-0.4242, -0.4242, -0.4242,  ..., -0.4242, -0.4242, -0.4242],\n",
            "          [-0.4242, -0.4242, -0.4242,  ..., -0.4242, -0.4242, -0.4242]]],\n",
            "\n",
            "\n",
            "        [[[-0.4242, -0.4242, -0.4242,  ..., -0.4242, -0.4242, -0.4242],\n",
            "          [-0.4242, -0.4242, -0.4242,  ..., -0.4242, -0.4242, -0.4242],\n",
            "          [-0.4242, -0.4242, -0.4242,  ..., -0.4242, -0.4242, -0.4242],\n",
            "          ...,\n",
            "          [-0.4242, -0.4242, -0.4242,  ..., -0.4242, -0.4242, -0.4242],\n",
            "          [-0.4242, -0.4242, -0.4242,  ..., -0.4242, -0.4242, -0.4242],\n",
            "          [-0.4242, -0.4242, -0.4242,  ..., -0.4242, -0.4242, -0.4242]]]])\n",
            "torch.Size([32, 10])\n",
            "tensor([[-2.1179, -2.2461, -2.1910, -2.4423, -2.2582, -2.5059, -2.3481, -2.3019,\n",
            "         -2.4939, -2.2000],\n",
            "        [-2.1011, -2.2895, -2.1713, -2.4525, -2.2446, -2.5058, -2.4028, -2.3240,\n",
            "         -2.4475, -2.1731],\n",
            "        [-2.1260, -2.3353, -2.1679, -2.4227, -2.2728, -2.4743, -2.3824, -2.2980,\n",
            "         -2.3728, -2.2297],\n",
            "        [-2.0578, -2.2896, -2.2383, -2.4886, -2.2420, -2.5423, -2.3995, -2.2451,\n",
            "         -2.5289, -2.1208],\n",
            "        [-2.0760, -2.4140, -2.1102, -2.5771, -2.2079, -2.5650, -2.4705, -2.0972,\n",
            "         -2.4495, -2.2314],\n",
            "        [-2.1091, -2.3347, -2.2155, -2.4378, -2.2626, -2.4854, -2.3688, -2.2601,\n",
            "         -2.4152, -2.2010],\n",
            "        [-2.1092, -2.3143, -2.1528, -2.4514, -2.2819, -2.5461, -2.3686, -2.2994,\n",
            "         -2.4166, -2.1728],\n",
            "        [-2.0142, -2.3761, -2.1139, -2.5311, -2.2608, -2.5455, -2.4378, -2.1868,\n",
            "         -2.5377, -2.1897],\n",
            "        [-2.1301, -2.2999, -2.2489, -2.4760, -2.2484, -2.4660, -2.3628, -2.2119,\n",
            "         -2.4417, -2.2058],\n",
            "        [-2.1188, -2.2935, -2.1539, -2.5211, -2.2677, -2.4683, -2.3485, -2.2025,\n",
            "         -2.4512, -2.2827],\n",
            "        [-2.0814, -2.3049, -2.2182, -2.5456, -2.2630, -2.4608, -2.4086, -2.1543,\n",
            "         -2.4340, -2.2517],\n",
            "        [-2.0954, -2.2533, -2.1744, -2.4539, -2.2946, -2.5275, -2.3737, -2.3255,\n",
            "         -2.4721, -2.1511],\n",
            "        [-2.1390, -2.3256, -2.1966, -2.4269, -2.3286, -2.4191, -2.3585, -2.3454,\n",
            "         -2.3170, -2.2106],\n",
            "        [-2.0970, -2.2584, -2.1764, -2.5003, -2.2703, -2.4678, -2.3984, -2.2539,\n",
            "         -2.5123, -2.1878],\n",
            "        [-2.1716, -2.2235, -2.1652, -2.4509, -2.2576, -2.4685, -2.3240, -2.3587,\n",
            "         -2.4587, -2.2112],\n",
            "        [-2.1971, -2.2324, -2.1796, -2.4151, -2.3141, -2.4338, -2.3461, -2.4075,\n",
            "         -2.3300, -2.2116],\n",
            "        [-2.1034, -2.3469, -2.1550, -2.4555, -2.2321, -2.5034, -2.4052, -2.2223,\n",
            "         -2.4679, -2.2248],\n",
            "        [-2.0663, -2.3269, -2.1959, -2.5037, -2.3002, -2.4983, -2.3198, -2.2764,\n",
            "         -2.4976, -2.1454],\n",
            "        [-2.1192, -2.3637, -2.1394, -2.4951, -2.2218, -2.4855, -2.3524, -2.2374,\n",
            "         -2.4820, -2.2217],\n",
            "        [-2.1144, -2.2954, -2.1648, -2.4754, -2.2929, -2.4843, -2.4217, -2.3029,\n",
            "         -2.3822, -2.1694],\n",
            "        [-2.0575, -2.4058, -2.1940, -2.4228, -2.2423, -2.4613, -2.4294, -2.2408,\n",
            "         -2.4272, -2.2293],\n",
            "        [-2.1168, -2.2957, -2.1891, -2.4310, -2.2778, -2.5604, -2.4051, -2.2785,\n",
            "         -2.4453, -2.1223],\n",
            "        [-2.1406, -2.2561, -2.2605, -2.4677, -2.2517, -2.4419, -2.3072, -2.2821,\n",
            "         -2.4641, -2.2102],\n",
            "        [-2.1313, -2.2565, -2.1499, -2.5391, -2.2503, -2.5103, -2.3031, -2.2188,\n",
            "         -2.5421, -2.2334],\n",
            "        [-2.1554, -2.2987, -2.1761, -2.4701, -2.2436, -2.4950, -2.3631, -2.2506,\n",
            "         -2.4350, -2.2067],\n",
            "        [-2.1398, -2.2893, -2.1865, -2.4537, -2.2176, -2.4413, -2.3910, -2.2834,\n",
            "         -2.4807, -2.2107],\n",
            "        [-2.2115, -2.2383, -2.1653, -2.5279, -2.3213, -2.4723, -2.2547, -2.2552,\n",
            "         -2.4274, -2.2189],\n",
            "        [-2.1160, -2.2855, -2.1658, -2.5063, -2.3214, -2.4636, -2.3415, -2.2904,\n",
            "         -2.4436, -2.1714],\n",
            "        [-2.1167, -2.3223, -2.1829, -2.4459, -2.2298, -2.4816, -2.4330, -2.3004,\n",
            "         -2.3860, -2.1981],\n",
            "        [-2.1090, -2.2985, -2.2307, -2.4403, -2.2947, -2.4432, -2.3493, -2.2944,\n",
            "         -2.4225, -2.1981],\n",
            "        [-2.1368, -2.2585, -2.2040, -2.4576, -2.2381, -2.4502, -2.3447, -2.2932,\n",
            "         -2.4641, -2.2385],\n",
            "        [-2.1760, -2.2700, -2.1960, -2.4028, -2.2649, -2.4304, -2.3063, -2.3631,\n",
            "         -2.4148, -2.2398]], device='cuda:0', grad_fn=<LogSoftmaxBackward>)\n",
            "torch.Size([32])\n",
            "tensor([3, 2, 9, 5, 0, 1, 1, 0, 3, 6, 6, 7, 8, 9, 3, 8, 8, 3, 8, 9, 3, 5, 1, 4,\n",
            "        5, 3, 2, 9, 9, 4, 1, 4])\n"
          ],
          "name": "stdout"
        }
      ]
    },
    {
      "cell_type": "code",
      "metadata": {
        "colab": {
          "base_uri": "https://localhost:8080/"
        },
        "id": "93TZywOzLUF5",
        "outputId": "d2acb566-9187-462a-a01e-a84be10f6a8d"
      },
      "source": [
        "\n",
        "def fit(epoch,model,data_loader,phase='training',volatile=False):\n",
        "  if phase == 'training':\n",
        "    model.train()\n",
        "  if phase == 'validation':\n",
        "    model.eval()\n",
        "    volatile=True\n",
        "  running_loss = 0.0\n",
        "  running_correct = 0\n",
        "  for batch_idx , (data,target) in enumerate(data_loader):\n",
        "    if is_cuda:\n",
        "      data,target = data.cuda(),target.cuda()\n",
        "      data , target = Variable(data,volatile),Variable(target)\n",
        "    if phase == 'training':\n",
        "      optimizer.zero_grad()\n",
        "    output = model(data)\n",
        "    loss = F.nll_loss(output,target)\n",
        "\n",
        "    running_loss += F.nll_loss(output,target,size_average=False).data\n",
        "    preds = output.data.max(dim=1,keepdim=True)[1]\n",
        "    running_correct += preds.eq(target.data.view_as(preds)).cpu().sum()\n",
        "    if phase == 'training':\n",
        "      loss.backward()\n",
        "      optimizer.step()\n",
        "    loss = running_loss/len(data_loader.dataset)\n",
        "    accuracy = 100. * running_correct/len(data_loader.dataset)\n",
        "  print(f'{phase} loss is {loss:{5}.{2}} and {phase} accuracy is {running_correct}/{len(data_loader.dataset)}{accuracy:{10}.{4}}')\n",
        "  return loss, accuracy\n",
        "\n",
        "train_losses , train_accuracy = [],[]\n",
        "val_losses , val_accuracy = [],[]\n",
        "for epoch in range(1,20):\n",
        "  epoch_loss, epoch_accuracy = fit(epoch,model,train_loader,phase='training')\n",
        "  val_epoch_loss , val_epoch_accuracy = fit(epoch,model,test_loader,phase='validation')\n",
        "  \n",
        "  train_losses.append(epoch_loss)\n",
        "  train_accuracy.append(epoch_accuracy)\n",
        "  val_losses.append(val_epoch_loss)\n",
        "  val_accuracy.append(val_epoch_accuracy)\n",
        "\n",
        "# (3) 화면 출력 확인\n"
      ],
      "execution_count": null,
      "outputs": [
        {
          "output_type": "stream",
          "text": [
            "/usr/local/lib/python3.6/dist-packages/torch/nn/_reduction.py:44: UserWarning: size_average and reduce args will be deprecated, please use reduction='sum' instead.\n",
            "  warnings.warn(warning.format(ret))\n"
          ],
          "name": "stderr"
        },
        {
          "output_type": "stream",
          "text": [
            "training loss is  0.06 and training accuracy is 58919/60000      98.2\n",
            "validation loss is 0.049 and validation accuracy is 9849/10000     98.49\n",
            "training loss is 0.061 and training accuracy is 58881/60000     98.14\n",
            "validation loss is 0.045 and validation accuracy is 9855/10000     98.55\n",
            "training loss is 0.058 and training accuracy is 58939/60000     98.23\n",
            "validation loss is 0.046 and validation accuracy is 9849/10000     98.49\n",
            "training loss is 0.058 and training accuracy is 58937/60000     98.23\n",
            "validation loss is 0.045 and validation accuracy is 9858/10000     98.58\n",
            "training loss is 0.057 and training accuracy is 58917/60000     98.19\n",
            "validation loss is 0.044 and validation accuracy is 9856/10000     98.56\n",
            "training loss is 0.057 and training accuracy is 59004/60000     98.34\n",
            "validation loss is 0.043 and validation accuracy is 9856/10000     98.56\n",
            "training loss is 0.056 and training accuracy is 58973/60000     98.29\n",
            "validation loss is 0.044 and validation accuracy is 9861/10000     98.61\n",
            "training loss is 0.055 and training accuracy is 58986/60000     98.31\n",
            "validation loss is 0.043 and validation accuracy is 9859/10000     98.59\n",
            "training loss is 0.054 and training accuracy is 59023/60000     98.37\n",
            "validation loss is 0.042 and validation accuracy is 9871/10000     98.71\n",
            "training loss is 0.055 and training accuracy is 58976/60000     98.29\n",
            "validation loss is 0.042 and validation accuracy is 9868/10000     98.68\n",
            "training loss is 0.052 and training accuracy is 59045/60000     98.41\n",
            "validation loss is 0.043 and validation accuracy is 9860/10000      98.6\n",
            "training loss is 0.051 and training accuracy is 59076/60000     98.46\n",
            "validation loss is 0.043 and validation accuracy is 9862/10000     98.62\n",
            "training loss is 0.051 and training accuracy is 59062/60000     98.44\n",
            "validation loss is  0.04 and validation accuracy is 9866/10000     98.66\n",
            "training loss is 0.051 and training accuracy is 59063/60000     98.44\n",
            "validation loss is 0.041 and validation accuracy is 9869/10000     98.69\n",
            "training loss is  0.05 and training accuracy is 59079/60000     98.46\n",
            "validation loss is 0.041 and validation accuracy is 9867/10000     98.67\n",
            "training loss is  0.05 and training accuracy is 59088/60000     98.48\n",
            "validation loss is 0.039 and validation accuracy is 9871/10000     98.71\n",
            "training loss is 0.048 and training accuracy is 59110/60000     98.52\n",
            "validation loss is 0.039 and validation accuracy is 9872/10000     98.72\n",
            "training loss is 0.048 and training accuracy is 59109/60000     98.51\n",
            "validation loss is 0.038 and validation accuracy is 9878/10000     98.78\n",
            "training loss is 0.047 and training accuracy is 59134/60000     98.56\n",
            "validation loss is 0.038 and validation accuracy is 9878/10000     98.78\n"
          ],
          "name": "stdout"
        }
      ]
    },
    {
      "cell_type": "code",
      "metadata": {
        "colab": {
          "base_uri": "https://localhost:8080/",
          "height": 281
        },
        "id": "x5L_PVsiPenw",
        "outputId": "2768fe0d-4c13-4eef-ccf9-c7ae604102df"
      },
      "source": [
        "plt.plot(range(1,len(train_losses)+1),train_losses,'bo',label = 'training loss') \n",
        "plt.plot(range(1,len(val_losses)+1),val_losses,'r',label = 'validation loss') \n",
        "plt.legend()\n",
        "\n",
        "# (4) 화면 출력 확인"
      ],
      "execution_count": null,
      "outputs": [
        {
          "output_type": "execute_result",
          "data": {
            "text/plain": [
              "<matplotlib.legend.Legend at 0x7f9f378ff2b0>"
            ]
          },
          "metadata": {
            "tags": []
          },
          "execution_count": 20
        },
        {
          "output_type": "display_data",
          "data": {
            "image/png": "[encoded data removed]",
            "text/plain": [
              "<Figure size 432x288 with 1 Axes>"
            ]
          },
          "metadata": {
            "tags": [],
            "needs_background": "light"
          }
        }
      ]
    },
    {
      "cell_type": "code",
      "metadata": {
        "colab": {
          "base_uri": "https://localhost:8080/",
          "height": 282
        },
        "id": "ELBLfR5zPqj9",
        "outputId": "bc848fc5-ad42-49aa-d365-b3a0af161f1c"
      },
      "source": [
        "plt.plot(range(1,len(train_accuracy)+1),train_accuracy,'bo',label = 'train accuracy') \n",
        "plt.plot(range(1,len(val_accuracy)+1),val_accuracy,'r',label = 'val accuracy') \n",
        "plt.legend()\n",
        "\n",
        "# (5) 화면 출력 확인"
      ],
      "execution_count": null,
      "outputs": [
        {
          "output_type": "execute_result",
          "data": {
            "text/plain": [
              "<matplotlib.legend.Legend at 0x7f9f37861ba8>"
            ]
          },
          "metadata": {
            "tags": []
          },
          "execution_count": 21
        },
        {
          "output_type": "display_data",
          "data": {
            "image/png": "[encoded data removed]",
            "text/plain": [
              "<Figure size 432x288 with 1 Axes>"
            ]
          },
          "metadata": {
            "tags": [],
            "needs_background": "light"
          }
        }
      ]
    },
    {
      "cell_type": "markdown",
      "metadata": {
        "id": "uF1F-oZFP46g"
      },
      "source": [
        "2. [CNN] 다음 코드를 무엇을 의미하는지 이해하고 실행하여 결과를 확인하세요. (10점) (코드의 해석과 결과의 의미를 작성하세요.)"
      ]
    },
    {
      "cell_type": "code",
      "metadata": {
        "colab": {
          "base_uri": "https://localhost:8080/"
        },
        "id": "adV4URjPP8Ls",
        "outputId": "ecd32138-fcec-4950-aa43-f805b3468293"
      },
      "source": [
        "import torch\n",
        "import torch.nn as nn\n",
        "import torch.nn.functional as F\n",
        "\n",
        "class Net(nn.Module): #nn.module 상속받아 클래스Net 정의\n",
        "  def __init__(self):\n",
        "    super(Net, self).__init__()\n",
        "    # 1 input image channel, 6 output channels, 5x5 square convolution kernel \n",
        "    self.conv1 = nn.Conv2d(1, 6, 5)\n",
        "    #필터를 사용하여 하나의 채널이 들어가면 6개의 특징맵을 출력함\n",
        "    self.conv2 = nn.Conv2d(6, 16, 5)\n",
        "    # an affine operation: y = Wx + b\n",
        "    #선형회귀모델 구현\n",
        "    self.fc1 = nn.Linear(16 * 5 * 5, 120) # 이미지 차원은 5*5\n",
        "    #위에서 특징맵이 16채널이 나옴 , 특징맵의 면적 5*5/\n",
        "    self.fc2 = nn.Linear(120, 84)\n",
        "    self.fc3 = nn.Linear(84, 10)\n",
        "    #최종으로 10개의 score를 출력\n",
        "\n",
        "  def forward(self, x):\n",
        "    #2.2 크기 윈도우에 대해 맥스풀링\n",
        "    #최대값을 뽑아주는 max pooling - overfitting 방지하기 위함\n",
        "    # Max pooling over a (2, 2) window\n",
        "    x = F.max_pool2d(F.relu(self.conv1(x)), (2, 2))\n",
        "    #x를 self.conv1을 통과시켜줌->relu통과->maxpool(2*2의 윈도우크기를가지고)->절반으로 줄어드는 결과\n",
        "    # If the size is a square you can only specify a single number \n",
        "    x = F.max_pool2d(F.relu(self.conv2(x)), 2)\n",
        "    #self.conv2통과- - > (2,2)를 2로 특정가능\n",
        "    x = x.view(-1, self.num_flat_features(x))\n",
        "    x = F.relu(self.fc1(x))\n",
        "    #flat한 값(fully connected layer 통과가능)을 fc1->relu통과\n",
        "    x = F.relu(self.fc2(x))\n",
        "    #fc2->relu통과\n",
        "    x = self.fc3(x)\n",
        "    return x\n",
        "\n",
        "  def num_flat_features(self, x):\n",
        "    size = x.size()[1:] # all dimensions except the batch dimension \n",
        "    #배치차원 제외한 모든 차원\n",
        "    num_features = 1\n",
        "    for s in size:\n",
        "      num_features *= s \n",
        "    return num_features\n",
        "\n",
        "net = Net() \n",
        "#net이라는 신경망 정의함 \n",
        "print(net)\n",
        "# (1) 정의된 컨볼루션 신경망의 구조 설명 (위의 AlexNet 그림 참고)"
      ],
      "execution_count": null,
      "outputs": [
        {
          "output_type": "stream",
          "text": [
            "Net(\n",
            "  (conv1): Conv2d(1, 6, kernel_size=(5, 5), stride=(1, 1))\n",
            "  (conv2): Conv2d(6, 16, kernel_size=(5, 5), stride=(1, 1))\n",
            "  (fc1): Linear(in_features=400, out_features=120, bias=True)\n",
            "  (fc2): Linear(in_features=120, out_features=84, bias=True)\n",
            "  (fc3): Linear(in_features=84, out_features=10, bias=True)\n",
            ")\n"
          ],
          "name": "stdout"
        }
      ]
    },
    {
      "cell_type": "code",
      "metadata": {
        "colab": {
          "base_uri": "https://localhost:8080/"
        },
        "id": "Ssk_jZHPQS5s",
        "outputId": "48d39197-5175-46ec-a9ee-f118eff2416e"
      },
      "source": [
        "# net.parameters()를 사용하여 정의된 신경망의 학습가능한 매개변수들을 확인할 수 있음\n",
        "params = list(net.parameters()) \n",
        "print(len(params))\n",
        "print(params[0].size()) # conv1's .weight\n",
        "#conv필터의 면적이 5*5이고,입력이미지가 1채널, 출력채널수가 6\n",
        "# (2) 화면 출력 확인"
      ],
      "execution_count": null,
      "outputs": [
        {
          "output_type": "stream",
          "text": [
            "10\n",
            "torch.Size([6, 1, 5, 5])\n"
          ],
          "name": "stdout"
        }
      ]
    },
    {
      "cell_type": "code",
      "metadata": {
        "colab": {
          "base_uri": "https://localhost:8080/"
        },
        "id": "HnY8hwQiQWcU",
        "outputId": "e0997cfd-a374-43f1-e3d6-705662e108a2"
      },
      "source": [
        "# 다음의 임의의 32*32 입력을 가정함\n",
        "# 참고로 크기가 다른 입력을 받을 때는 입력의 크기를 재조정하거나 신경망 수정함\n",
        "input = torch.randn(1, 1, 32, 32) \n",
        "#사이즈만 맞는 이미지형태의 가짜값을 인풋형태로 넣어줌, 32*32 1채널 넣어줌, 배치=1\n",
        "out = net(input)\n",
        "print(out)\n",
        "# (3) 화면 출력 확인"
      ],
      "execution_count": null,
      "outputs": [
        {
          "output_type": "stream",
          "text": [
            "tensor([[ 0.0350,  0.0949, -0.0960,  0.0580,  0.1096, -0.0543, -0.0005,  0.0341,\n",
            "          0.0763, -0.0280]], grad_fn=<AddmmBackward>)\n"
          ],
          "name": "stdout"
        }
      ]
    },
    {
      "cell_type": "code",
      "metadata": {
        "colab": {
          "base_uri": "https://localhost:8080/"
        },
        "id": "QJU_YC0LRx_U",
        "outputId": "0a37d602-0fee-4f62-f11a-4a608be15556"
      },
      "source": [
        "# 오류역전파를 통해 그레이디언트를 구하기 전에 모든 가중치의 그레이디언트 버퍼들을 초기화\n",
        "# cnn네트워크 학습하기 전에는 zero_grad해줘야함 . 그레디언트가 누적이되기때문\n",
        "net.zero_grad() \n",
        "# 랜덤값으로 역전파\n",
        "out.backward(torch.randn(1, 10))\n",
        "\n",
        "#LOSS FUNCTION\n",
        "#손실함수는 output,target 을 한쌍으로 입력받아 output이 target으로부터\n",
        "#얼마나 멀리 떨어져있는지(틀렸는지) 추정\n",
        "# 손실 함수 정의 및 임의의 값들에 대해서 오차 결과 확인\n",
        "# nn 패키지는 많이 사용되는 손실함수들을 제공하며, 해당 예제는 단순한 MSE 를 사용\n",
        "output = net(input)\n",
        "target = torch.randn(10) # a dummy target, for example\n",
        "#print(target) #랜덤값 들어있음 \n",
        "target = target.view(1, -1) # make it the same shape as output \n",
        "#shape을 아웃풋값과 같게 만들어줌 \n",
        "#print(target)\n",
        "criterion = nn.MSELoss()\n",
        "#손실함수계산 함수 정의 (평균제곱오차를 계산)\n",
        "loss = criterion(output, target) \n",
        "print(loss)\n",
        "# (4) 화면 출력 확인"
      ],
      "execution_count": null,
      "outputs": [
        {
          "output_type": "stream",
          "text": [
            "tensor(1.0472, grad_fn=<MseLossBackward>)\n"
          ],
          "name": "stdout"
        }
      ]
    },
    {
      "cell_type": "code",
      "metadata": {
        "colab": {
          "base_uri": "https://localhost:8080/"
        },
        "id": "j0u0m0PrSTbo",
        "outputId": "9d07c8c2-15ba-4319-84d0-12d86bf6fc4d"
      },
      "source": [
        "# 앞에 코드에서 언급한 것과 같이 오류 역전파하기 전, 그레이디언트를 초기화해야 함\n",
        "# backward() 수행 후 어떤 변화가 있는지 확인하고, 초기화의 필요성을 확인함\n",
        "net.zero_grad() # zeroes the gradient buffers of all parameters \n",
        "#기존의 변화도를 없애는 작업\n",
        "print('conv1.bias.grad before backward') \n",
        "print(net.conv1.bias.grad)\n",
        "#zero_grad했기때문에 0으로 나옴 \n",
        "loss.backward()\n",
        "print('conv1.bias.grad after backward') \n",
        "print(net.conv1.bias.grad)\n",
        "# (5) backward 전,후 화면 출력 확인"
      ],
      "execution_count": null,
      "outputs": [
        {
          "output_type": "stream",
          "text": [
            "conv1.bias.grad before backward\n",
            "tensor([0., 0., 0., 0., 0., 0.])\n",
            "conv1.bias.grad after backward\n",
            "tensor([ 0.0070, -0.0009, -0.0066,  0.0226, -0.0015, -0.0025])\n"
          ],
          "name": "stdout"
        }
      ]
    },
    {
      "cell_type": "code",
      "metadata": {
        "id": "wD5m8Zk8SZ0D",
        "colab": {
          "base_uri": "https://localhost:8080/",
          "height": 367
        },
        "outputId": "38052397-7d5f-4196-bd5c-36ff6fd46db1"
      },
      "source": [
        "# 스토캐스틱 경사하강법 ( (미래)가중치 = (현재)가중치 – 학습률 * 그레이디언트 )을 이용하여 \n",
        "#가중치 갱신하는 코드는 다음과 같음\n",
        "learning_rate = 0.01\n",
        "for f in net.parameters():\n",
        "  f.data.sub_(f.grad.data * learning_rate)\n",
        "\n",
        "\n",
        "# 하지만 위 구현 코드보다 실제, torch.optim 에서 구현되는 SDG, Adam, RMSProp 등을 사용함\n",
        "# 오류 역전파에서 최적화하는 방법을 보인 예제 코드 \n",
        "import torch.optim as optim\n",
        "# create your optimizer\n",
        "optimizer = optim.SGD(net.parameters(), lr=0.01)\n",
        "#optimizer SGD 사용, 파라미터에 대해 옵티마이저 사용(학습할 파라미터 넣어줌)\n",
        "#lr 학습률은 0.01\n",
        "\n",
        "# in your training loop:\n",
        "optimizer.zero_grad() # zero the gradient buffers \n",
        "output = net(input)\n",
        "loss = criterion(output, target)\n",
        "loss.backward()\n",
        "optimizer.step() # Does the update\n",
        "#가중치 갱신됨 "
      ],
      "execution_count": null,
      "outputs": [
        {
          "output_type": "error",
          "ename": "TypeError",
          "evalue": "ignored",
          "traceback": [
            "\u001b[0;31m---------------------------------------------------------------------------\u001b[0m",
            "\u001b[0;31mTypeError\u001b[0m                                 Traceback (most recent call last)",
            "\u001b[0;32m<ipython-input-17-87e0f4aedb92>\u001b[0m in \u001b[0;36m<module>\u001b[0;34m()\u001b[0m\n\u001b[1;32m     16\u001b[0m \u001b[0;31m# in your training loop:\u001b[0m\u001b[0;34m\u001b[0m\u001b[0;34m\u001b[0m\u001b[0;34m\u001b[0m\u001b[0m\n\u001b[1;32m     17\u001b[0m \u001b[0moptimizer\u001b[0m\u001b[0;34m.\u001b[0m\u001b[0mzero_grad\u001b[0m\u001b[0;34m(\u001b[0m\u001b[0;34m)\u001b[0m \u001b[0;31m# zero the gradient buffers\u001b[0m\u001b[0;34m\u001b[0m\u001b[0;34m\u001b[0m\u001b[0m\n\u001b[0;32m---> 18\u001b[0;31m \u001b[0moutput\u001b[0m \u001b[0;34m=\u001b[0m \u001b[0mnet\u001b[0m\u001b[0;34m(\u001b[0m\u001b[0minput\u001b[0m\u001b[0;34m)\u001b[0m\u001b[0;34m\u001b[0m\u001b[0;34m\u001b[0m\u001b[0m\n\u001b[0m\u001b[1;32m     19\u001b[0m \u001b[0mloss\u001b[0m \u001b[0;34m=\u001b[0m \u001b[0mcriterion\u001b[0m\u001b[0;34m(\u001b[0m\u001b[0moutput\u001b[0m\u001b[0;34m,\u001b[0m \u001b[0mtarget\u001b[0m\u001b[0;34m)\u001b[0m\u001b[0;34m\u001b[0m\u001b[0;34m\u001b[0m\u001b[0m\n\u001b[1;32m     20\u001b[0m \u001b[0mloss\u001b[0m\u001b[0;34m.\u001b[0m\u001b[0mbackward\u001b[0m\u001b[0;34m(\u001b[0m\u001b[0;34m)\u001b[0m\u001b[0;34m\u001b[0m\u001b[0;34m\u001b[0m\u001b[0m\n",
            "\u001b[0;32m/usr/local/lib/python3.6/dist-packages/torch/nn/modules/module.py\u001b[0m in \u001b[0;36m_call_impl\u001b[0;34m(self, *input, **kwargs)\u001b[0m\n\u001b[1;32m    725\u001b[0m             \u001b[0mresult\u001b[0m \u001b[0;34m=\u001b[0m \u001b[0mself\u001b[0m\u001b[0;34m.\u001b[0m\u001b[0m_slow_forward\u001b[0m\u001b[0;34m(\u001b[0m\u001b[0;34m*\u001b[0m\u001b[0minput\u001b[0m\u001b[0;34m,\u001b[0m \u001b[0;34m**\u001b[0m\u001b[0mkwargs\u001b[0m\u001b[0;34m)\u001b[0m\u001b[0;34m\u001b[0m\u001b[0;34m\u001b[0m\u001b[0m\n\u001b[1;32m    726\u001b[0m         \u001b[0;32melse\u001b[0m\u001b[0;34m:\u001b[0m\u001b[0;34m\u001b[0m\u001b[0;34m\u001b[0m\u001b[0m\n\u001b[0;32m--> 727\u001b[0;31m             \u001b[0mresult\u001b[0m \u001b[0;34m=\u001b[0m \u001b[0mself\u001b[0m\u001b[0;34m.\u001b[0m\u001b[0mforward\u001b[0m\u001b[0;34m(\u001b[0m\u001b[0;34m*\u001b[0m\u001b[0minput\u001b[0m\u001b[0;34m,\u001b[0m \u001b[0;34m**\u001b[0m\u001b[0mkwargs\u001b[0m\u001b[0;34m)\u001b[0m\u001b[0;34m\u001b[0m\u001b[0;34m\u001b[0m\u001b[0m\n\u001b[0m\u001b[1;32m    728\u001b[0m         for hook in itertools.chain(\n\u001b[1;32m    729\u001b[0m                 \u001b[0m_global_forward_hooks\u001b[0m\u001b[0;34m.\u001b[0m\u001b[0mvalues\u001b[0m\u001b[0;34m(\u001b[0m\u001b[0;34m)\u001b[0m\u001b[0;34m,\u001b[0m\u001b[0;34m\u001b[0m\u001b[0;34m\u001b[0m\u001b[0m\n",
            "\u001b[0;32m<ipython-input-5-cf10031c2f52>\u001b[0m in \u001b[0;36mforward\u001b[0;34m(self, x)\u001b[0m\n\u001b[1;32m     14\u001b[0m \u001b[0;34m\u001b[0m\u001b[0m\n\u001b[1;32m     15\u001b[0m   \u001b[0;32mdef\u001b[0m \u001b[0mforward\u001b[0m\u001b[0;34m(\u001b[0m\u001b[0mself\u001b[0m\u001b[0;34m,\u001b[0m \u001b[0mx\u001b[0m\u001b[0;34m)\u001b[0m\u001b[0;34m:\u001b[0m\u001b[0;34m\u001b[0m\u001b[0;34m\u001b[0m\u001b[0m\n\u001b[0;32m---> 16\u001b[0;31m     \u001b[0mx\u001b[0m \u001b[0;34m=\u001b[0m \u001b[0mself\u001b[0m\u001b[0;34m.\u001b[0m\u001b[0mpool\u001b[0m\u001b[0;34m(\u001b[0m\u001b[0mF\u001b[0m\u001b[0;34m.\u001b[0m\u001b[0mrelu\u001b[0m\u001b[0;34m(\u001b[0m\u001b[0mself\u001b[0m\u001b[0;34m.\u001b[0m\u001b[0mconv1\u001b[0m\u001b[0;34m(\u001b[0m\u001b[0mx\u001b[0m\u001b[0;34m)\u001b[0m\u001b[0;34m)\u001b[0m\u001b[0;34m)\u001b[0m\u001b[0;34m\u001b[0m\u001b[0;34m\u001b[0m\u001b[0m\n\u001b[0m\u001b[1;32m     17\u001b[0m     \u001b[0mx\u001b[0m \u001b[0;34m=\u001b[0m \u001b[0mself\u001b[0m\u001b[0;34m.\u001b[0m\u001b[0mpool\u001b[0m\u001b[0;34m(\u001b[0m\u001b[0mF\u001b[0m\u001b[0;34m.\u001b[0m\u001b[0mrelu\u001b[0m\u001b[0;34m(\u001b[0m\u001b[0mself\u001b[0m\u001b[0;34m.\u001b[0m\u001b[0mconv2\u001b[0m\u001b[0;34m(\u001b[0m\u001b[0mx\u001b[0m\u001b[0;34m)\u001b[0m\u001b[0;34m)\u001b[0m\u001b[0;34m)\u001b[0m\u001b[0;34m\u001b[0m\u001b[0;34m\u001b[0m\u001b[0m\n\u001b[1;32m     18\u001b[0m     \u001b[0mx\u001b[0m \u001b[0;34m=\u001b[0m \u001b[0mx\u001b[0m\u001b[0;34m.\u001b[0m\u001b[0mview\u001b[0m\u001b[0;34m(\u001b[0m\u001b[0;34m-\u001b[0m\u001b[0;36m1\u001b[0m\u001b[0;34m,\u001b[0m \u001b[0;36m16\u001b[0m \u001b[0;34m*\u001b[0m \u001b[0;36m5\u001b[0m \u001b[0;34m*\u001b[0m \u001b[0;36m5\u001b[0m\u001b[0;34m)\u001b[0m\u001b[0;34m\u001b[0m\u001b[0;34m\u001b[0m\u001b[0m\n",
            "\u001b[0;32m/usr/local/lib/python3.6/dist-packages/torch/nn/modules/module.py\u001b[0m in \u001b[0;36m_call_impl\u001b[0;34m(self, *input, **kwargs)\u001b[0m\n\u001b[1;32m    725\u001b[0m             \u001b[0mresult\u001b[0m \u001b[0;34m=\u001b[0m \u001b[0mself\u001b[0m\u001b[0;34m.\u001b[0m\u001b[0m_slow_forward\u001b[0m\u001b[0;34m(\u001b[0m\u001b[0;34m*\u001b[0m\u001b[0minput\u001b[0m\u001b[0;34m,\u001b[0m \u001b[0;34m**\u001b[0m\u001b[0mkwargs\u001b[0m\u001b[0;34m)\u001b[0m\u001b[0;34m\u001b[0m\u001b[0;34m\u001b[0m\u001b[0m\n\u001b[1;32m    726\u001b[0m         \u001b[0;32melse\u001b[0m\u001b[0;34m:\u001b[0m\u001b[0;34m\u001b[0m\u001b[0;34m\u001b[0m\u001b[0m\n\u001b[0;32m--> 727\u001b[0;31m             \u001b[0mresult\u001b[0m \u001b[0;34m=\u001b[0m \u001b[0mself\u001b[0m\u001b[0;34m.\u001b[0m\u001b[0mforward\u001b[0m\u001b[0;34m(\u001b[0m\u001b[0;34m*\u001b[0m\u001b[0minput\u001b[0m\u001b[0;34m,\u001b[0m \u001b[0;34m**\u001b[0m\u001b[0mkwargs\u001b[0m\u001b[0;34m)\u001b[0m\u001b[0;34m\u001b[0m\u001b[0;34m\u001b[0m\u001b[0m\n\u001b[0m\u001b[1;32m    728\u001b[0m         for hook in itertools.chain(\n\u001b[1;32m    729\u001b[0m                 \u001b[0m_global_forward_hooks\u001b[0m\u001b[0;34m.\u001b[0m\u001b[0mvalues\u001b[0m\u001b[0;34m(\u001b[0m\u001b[0;34m)\u001b[0m\u001b[0;34m,\u001b[0m\u001b[0;34m\u001b[0m\u001b[0;34m\u001b[0m\u001b[0m\n",
            "\u001b[0;32m/usr/local/lib/python3.6/dist-packages/torch/nn/modules/conv.py\u001b[0m in \u001b[0;36mforward\u001b[0;34m(self, input)\u001b[0m\n\u001b[1;32m    421\u001b[0m \u001b[0;34m\u001b[0m\u001b[0m\n\u001b[1;32m    422\u001b[0m     \u001b[0;32mdef\u001b[0m \u001b[0mforward\u001b[0m\u001b[0;34m(\u001b[0m\u001b[0mself\u001b[0m\u001b[0;34m,\u001b[0m \u001b[0minput\u001b[0m\u001b[0;34m:\u001b[0m \u001b[0mTensor\u001b[0m\u001b[0;34m)\u001b[0m \u001b[0;34m->\u001b[0m \u001b[0mTensor\u001b[0m\u001b[0;34m:\u001b[0m\u001b[0;34m\u001b[0m\u001b[0;34m\u001b[0m\u001b[0m\n\u001b[0;32m--> 423\u001b[0;31m         \u001b[0;32mreturn\u001b[0m \u001b[0mself\u001b[0m\u001b[0;34m.\u001b[0m\u001b[0m_conv_forward\u001b[0m\u001b[0;34m(\u001b[0m\u001b[0minput\u001b[0m\u001b[0;34m,\u001b[0m \u001b[0mself\u001b[0m\u001b[0;34m.\u001b[0m\u001b[0mweight\u001b[0m\u001b[0;34m)\u001b[0m\u001b[0;34m\u001b[0m\u001b[0;34m\u001b[0m\u001b[0m\n\u001b[0m\u001b[1;32m    424\u001b[0m \u001b[0;34m\u001b[0m\u001b[0m\n\u001b[1;32m    425\u001b[0m \u001b[0;32mclass\u001b[0m \u001b[0mConv3d\u001b[0m\u001b[0;34m(\u001b[0m\u001b[0m_ConvNd\u001b[0m\u001b[0;34m)\u001b[0m\u001b[0;34m:\u001b[0m\u001b[0;34m\u001b[0m\u001b[0;34m\u001b[0m\u001b[0m\n",
            "\u001b[0;32m/usr/local/lib/python3.6/dist-packages/torch/nn/modules/conv.py\u001b[0m in \u001b[0;36m_conv_forward\u001b[0;34m(self, input, weight)\u001b[0m\n\u001b[1;32m    418\u001b[0m                             _pair(0), self.dilation, self.groups)\n\u001b[1;32m    419\u001b[0m         return F.conv2d(input, weight, self.bias, self.stride,\n\u001b[0;32m--> 420\u001b[0;31m                         self.padding, self.dilation, self.groups)\n\u001b[0m\u001b[1;32m    421\u001b[0m \u001b[0;34m\u001b[0m\u001b[0m\n\u001b[1;32m    422\u001b[0m     \u001b[0;32mdef\u001b[0m \u001b[0mforward\u001b[0m\u001b[0;34m(\u001b[0m\u001b[0mself\u001b[0m\u001b[0;34m,\u001b[0m \u001b[0minput\u001b[0m\u001b[0;34m:\u001b[0m \u001b[0mTensor\u001b[0m\u001b[0;34m)\u001b[0m \u001b[0;34m->\u001b[0m \u001b[0mTensor\u001b[0m\u001b[0;34m:\u001b[0m\u001b[0;34m\u001b[0m\u001b[0;34m\u001b[0m\u001b[0m\n",
            "\u001b[0;31mTypeError\u001b[0m: conv2d(): argument 'input' (position 1) must be Tensor, not method"
          ]
        }
      ]
    },
    {
      "cell_type": "markdown",
      "metadata": {
        "id": "9uqSPhfYSruS"
      },
      "source": [
        "3. [분류기 학습] 다음 코드를 무엇을 의미하는지 이해하고 실행하여 결과를 확인하세요. (14점) (코드의 해석과 결과의 의미를 작성하세요.)"
      ]
    },
    {
      "cell_type": "markdown",
      "metadata": {
        "id": "Rx4_1zRNwN_m"
      },
      "source": [
        "이미지 분류기 학습하기\n",
        "다음과 같은 단계로 진행해보겠습니다:\n",
        "\n",
        "torchvision 을 사용하여 CIFAR10의 학습용 / 시험용 데이터셋을 불러오고, 정규화(nomarlizing)합니다.\n",
        "\n",
        "합성곱 신경망(Convolution Neural Network)을 정의합니다.\n",
        "\n",
        "손실 함수를 정의합니다.\n",
        "\n",
        "학습용 데이터를 사용하여 신경망을 학습합니다.\n",
        "\n",
        "시험용 데이터를 사용하여 신경망을 검사합니다."
      ]
    },
    {
      "cell_type": "code",
      "metadata": {
        "colab": {
          "base_uri": "https://localhost:8080/"
        },
        "id": "X1Q3_R9NStaT",
        "outputId": "2de79892-44a9-40cd-c30b-833bd0e87023"
      },
      "source": [
        "### 1. 정규화된 CIFAR-10 훈련집합과 테스트집합을 torchvision을 이용하여 적재함\n",
        "#CIFAR10을 불러오고 정규화하기 \n",
        "import torch\n",
        "import torchvision\n",
        "import torchvision.transforms as transforms\n",
        "\n",
        "transform = transforms.Compose([transforms.ToTensor(), transforms.Normalize((0.5, 0.5, 0.5), (0.5, 0.5, 0.5))]) \n",
        "trainset = torchvision.datasets.CIFAR10(root='./data', train=True, download=True, transform=transform) #학습데이터를 다운\n",
        "trainloader = torch.utils.data.DataLoader(trainset, batch_size=4, shuffle=True, num_workers=2) #랜덤하게 데이터 넣어줘야 학습잘됨\n",
        "testset = torchvision.datasets.CIFAR10(root='./data', train=False, download=True, transform=transform) #test데이터 받음\n",
        "testloader = torch.utils.data.DataLoader(testset, batch_size=4, shuffle=False, num_workers=2)\n",
        "\n",
        "classes = ('plane', 'car', 'bird', 'cat', 'deer', 'dog', 'frog', 'horse', 'ship', 'truck')\n",
        "# (1) 화면 출력 확인"
      ],
      "execution_count": null,
      "outputs": [
        {
          "output_type": "stream",
          "text": [
            "Files already downloaded and verified\n",
            "Files already downloaded and verified\n"
          ],
          "name": "stdout"
        }
      ]
    },
    {
      "cell_type": "code",
      "metadata": {
        "colab": {
          "base_uri": "https://localhost:8080/",
          "height": 154
        },
        "id": "mODpbRaoTxT5",
        "outputId": "4fd1b641-a42d-4316-8f62-21c89c9c836c"
      },
      "source": [
        "# 훈련집합의 일부 사진들 확인\n",
        "import matplotlib.pyplot as plt \n",
        "import numpy as np\n",
        "\n",
        "# functions to show an image \n",
        "def imshow(img):\n",
        "  img = img / 2 + 0.5 # unnormalize \n",
        "  npimg = img.numpy() \n",
        "  plt.imshow(np.transpose(npimg, (1, 2, 0)))\n",
        "\n",
        "# get some random training images \n",
        "dataiter = iter(trainloader)\n",
        "images, labels = dataiter.next()\n",
        "\n",
        "# show images \n",
        "imshow(torchvision.utils.make_grid(images))\n",
        "# print labels\n",
        "print(' '.join('%5s' % classes[labels[j]] for j in range(4)))\n",
        "# (2) 화면 출력 확인"
      ],
      "execution_count": null,
      "outputs": [
        {
          "output_type": "stream",
          "text": [
            " deer  bird   dog  bird\n"
          ],
          "name": "stdout"
        },
        {
          "output_type": "display_data",
          "data": {
            "image/png": "[encoded data removed]",
            "text/plain": [
              "<Figure size 432x288 with 1 Axes>"
            ]
          },
          "metadata": {
            "tags": [],
            "needs_background": "light"
          }
        }
      ]
    },
    {
      "cell_type": "code",
      "metadata": {
        "id": "HerkB4P_T9ye"
      },
      "source": [
        "### 2. 컨볼루션 신경망을 정의함\n",
        "# 3채널 32*32 크기의 사진을 입력받고, 신경망을 통과해 10 부류를 수행 \n",
        "import torch.nn as nn\n",
        "import torch.nn.functional as F\n",
        "class Net(nn.Module):\n",
        "  def __init__(self):\n",
        "    super(Net, self).__init__() \n",
        "    self.conv1 = nn.Conv2d(3, 32, kernel_size=3, padding=1) \n",
        "    self.conv2 = nn.Conv2d(32, 128, kernel_size=3, padding=1) \n",
        "    self.conv3 = nn.Conv2d(32, 32, kernel_size=3, padding=1) \n",
        "    self.conv4 = nn.Conv2d(128, 128, kernel_size=3, padding=1) \n",
        "\n",
        "    self.pool = nn.MaxPool2d(2, 2) \n",
        "\n",
        "    self.bn1 = nn.BatchNorm2d(32)\n",
        "    self.bn2 = nn.BatchNorm2d(128)\n",
        "\n",
        "    self.gvpool = nn.AvgPool2d(2,2)\n",
        "    self.fc1 = nn.Linear(128 * 4 * 4, 10) \n",
        "\n",
        "  def module1(self,x):\n",
        "    x = F.relu(self.bn1(self.conv3(x)))\n",
        "    return x\n",
        "\n",
        "  def module2(self,x):\n",
        "    x = F.relu(self.bn2(self.conv4(x)))\n",
        "    return x\n",
        "\n",
        "\n",
        "  def forward(self, x):\n",
        "    x = self.conv1(x)\n",
        "    x = F.relu(x)\n",
        "    x = self.module1(x)\n",
        "    x = self.pool(x)\n",
        "    x = self.module1(x)\n",
        "    x = self.pool(x)\n",
        "    x = self.conv2(x)\n",
        "    x = F.relu(x)\n",
        "    x = self.module2(x)\n",
        "    x = self.module2(x)\n",
        "    x = self.module2(x)\n",
        "    x = self.gvpool(x)\n",
        "    x = x.view(-1,128*4*4)\n",
        "    x = self.fc1(x)\n",
        "    return x\n",
        "\n",
        "net = Net()\n",
        "# from torchsummary import summary\n",
        "# print( summary( net.cuda(), input_size=(3,32,32)))\n",
        "\n",
        "### 3. 손실함수 정의, 교차 엔트로피와 SGD+momentum\n",
        "import torch.optim as optim\n",
        "criterion = nn.CrossEntropyLoss()\n",
        "# criterion = nn.NLLLoss()\n",
        "optimizer = optim.SGD(net.parameters(), lr=0.001, momentum=0.9)"
      ],
      "execution_count": null,
      "outputs": []
    },
    {
      "cell_type": "code",
      "metadata": {
        "colab": {
          "base_uri": "https://localhost:8080/"
        },
        "id": "QtvIdDfGUSG6",
        "outputId": "62698d35-a054-4a6f-d7fc-000237279eac"
      },
      "source": [
        "### 4. 훈련집합을 이용하여 신경망을 학습시킴 \n",
        "net.train()\n",
        "for epoch in range(1): # loop over the dataset multiple times\n",
        "#트레이닝 데이터셋을 5번 돔.\n",
        "  running_loss = 0.0\n",
        "  for i, data in enumerate(trainloader, 0):\n",
        "    # get the inputs \n",
        "    inputs, labels = data\n",
        "\n",
        "    # zero the parameter gradients \n",
        "    #학습시키기 전 필수\n",
        "    optimizer.zero_grad()\n",
        "\n",
        "    # forward + backward + optimize \n",
        "    # outputs = F.log_softmax(net(inputs))\n",
        "    outputs = net(inputs)\n",
        "    loss = criterion(outputs, labels) \n",
        "    loss.backward()\n",
        "    optimizer.step()\n",
        "    #가중치 갱신 \n",
        "\n",
        "    # print statistics\n",
        "    running_loss += loss.item()\n",
        "    if i % 1000 == 999: # print every 1000 mini-batches\n",
        "      print('[%d, %5d] loss: %.3f' %\n",
        "        (epoch + 1, i + 1, running_loss / 1000))\n",
        "      running_loss = 0.0 \n",
        "print('Finished Training')\n",
        "# (3) 화면 출력 확인 및 학습이 되고 있는지 서술"
      ],
      "execution_count": null,
      "outputs": [
        {
          "output_type": "stream",
          "text": [
            "[1,  1000] loss: 1.965\n",
            "[1,  2000] loss: 1.650\n",
            "[1,  3000] loss: 1.508\n",
            "[1,  4000] loss: 1.354\n",
            "[1,  5000] loss: 1.294\n",
            "[1,  6000] loss: 1.224\n",
            "[1,  7000] loss: 1.166\n",
            "[1,  8000] loss: 1.098\n",
            "[1,  9000] loss: 1.038\n",
            "[1, 10000] loss: 1.071\n",
            "[1, 11000] loss: 0.978\n",
            "[1, 12000] loss: 0.986\n",
            "Finished Training\n"
          ],
          "name": "stdout"
        }
      ]
    },
    {
      "cell_type": "code",
      "metadata": {
        "colab": {
          "base_uri": "https://localhost:8080/",
          "height": 154
        },
        "id": "-tSYhz9iWBK3",
        "outputId": "0d6c20bf-25a7-47b2-c61d-82a3ec7b4be6"
      },
      "source": [
        "### 5. 테스트집합을 이용하여 신경망 성능 확인\n",
        "dataiter = iter(testloader) \n",
        "images, labels = dataiter.next()\n",
        "\n",
        "# print images\n",
        "imshow(torchvision.utils.make_grid(images))\n",
        "print('GroundTruth: ', ' '.join('%5s' % classes[labels[j]] for j in range(4)))\n",
        "# (4) 화면 출력 확인\n"
      ],
      "execution_count": null,
      "outputs": [
        {
          "output_type": "stream",
          "text": [
            "GroundTruth:    cat  ship  ship plane\n"
          ],
          "name": "stdout"
        },
        {
          "output_type": "display_data",
          "data": {
            "image/png": "[encoded data removed]",
            "text/plain": [
              "<Figure size 432x288 with 1 Axes>"
            ]
          },
          "metadata": {
            "tags": [],
            "needs_background": "light"
          }
        }
      ]
    },
    {
      "cell_type": "code",
      "metadata": {
        "colab": {
          "base_uri": "https://localhost:8080/"
        },
        "id": "YBrfGISTWJ_f",
        "outputId": "7726afdb-51d5-43e5-eadf-3be1c05d3ce3"
      },
      "source": [
        "net.eval()\n",
        "outputs = net(images)\n",
        "_, predicted = torch.max(outputs, 1)\n",
        "print('Predicted: ', ' '.join('%5s' % classes[predicted[j]] for j in range(4)))\n",
        "# (5) 화면 출력 확인\n",
        "#한개틀리고 세개맞음 "
      ],
      "execution_count": null,
      "outputs": [
        {
          "output_type": "stream",
          "text": [
            "Predicted:    dog  ship  ship  ship\n"
          ],
          "name": "stdout"
        }
      ]
    },
    {
      "cell_type": "code",
      "metadata": {
        "colab": {
          "base_uri": "https://localhost:8080/"
        },
        "id": "nn_J4o8bWMfn",
        "outputId": "91b2f7b5-6cf4-46dd-d5ec-d7f179a2dadc"
      },
      "source": [
        "# performance on the whole test dataset \n",
        "# 전체 데이터셋에 대해서 어떻게 동작하는지 확인 \n",
        "correct = 0\n",
        "total = 0\n",
        "with torch.no_grad():\n",
        "  for data in testloader:\n",
        "    images, labels = data\n",
        "    outputs = net(images)\n",
        "    _, predicted = torch.max(outputs.data, 1) \n",
        "    total += labels.size(0)\n",
        "    correct += (predicted == labels).sum().item()\n",
        "    \n",
        "print('Accuracy of the network on the 10000 test images: %d %%' % (100 * correct / total))\n",
        "# (6) 화면 출력 확인 및 일반화 성능 서술"
      ],
      "execution_count": null,
      "outputs": [
        {
          "output_type": "stream",
          "text": [
            "Accuracy of the network on the 10000 test images: 51 %\n"
          ],
          "name": "stdout"
        }
      ]
    },
    {
      "cell_type": "code",
      "metadata": {
        "colab": {
          "base_uri": "https://localhost:8080/"
        },
        "id": "aN57HjSOWaGY",
        "outputId": "4a2251c5-973e-41cb-cb9f-42ffd9fb4818"
      },
      "source": [
        "# performance on each class \n",
        "#클래스에 대해서 어떤것들을 더 잘 분류하고, 어떤것들을 더 못했는지 확인 \n",
        "class_correct = list(0. for i in range(10)) \n",
        "class_total = list(0. for i in range(10)) \n",
        "with torch.no_grad():\n",
        "  for data in testloader:\n",
        "    images, labels = data\n",
        "    outputs = net(images)\n",
        "    _, predicted = torch.max(outputs, 1) \n",
        "    c = (predicted == labels).squeeze() \n",
        "    for i in range(4):\n",
        "      label = labels[i]\n",
        "      class_correct[label] += c[i].item()\n",
        "      class_total[label] += 1\n",
        "\n",
        "for i in range(10):\n",
        "  print('Accuracy of %5s : %2d %%' % (classes[i], 100 * class_correct[i] / class_total[i]))\n",
        "# (7) 화면 출력 확인 및 부류별 분류기의 성능 서술\n",
        "  "
      ],
      "execution_count": null,
      "outputs": [
        {
          "output_type": "stream",
          "text": [
            "Accuracy of plane : 18 %\n",
            "Accuracy of   car : 30 %\n",
            "Accuracy of  bird : 18 %\n",
            "Accuracy of   cat : 62 %\n",
            "Accuracy of  deer : 67 %\n",
            "Accuracy of   dog : 51 %\n",
            "Accuracy of  frog : 56 %\n",
            "Accuracy of horse : 45 %\n",
            "Accuracy of  ship : 79 %\n",
            "Accuracy of truck : 86 %\n"
          ],
          "name": "stdout"
        }
      ]
    },
    {
      "cell_type": "markdown",
      "metadata": {
        "id": "DA2GUraMD6Jy"
      },
      "source": [
        "5. 소프트맥스 함수적용"
      ]
    },
    {
      "cell_type": "code",
      "metadata": {
        "id": "Z3OGqBHpD5v-",
        "colab": {
          "base_uri": "https://localhost:8080/"
        },
        "outputId": "1e9aeec0-039b-44cd-a112-43373a363438"
      },
      "source": [
        "import torch\n",
        "import torch.nn.functional as F\n",
        "\n",
        "data = torch.tensor([0.4, 2.0, 0.001, 0.32])\n",
        "print(data)\n",
        "print(F.softmax(data, dim=0))\n",
        "print(F.softmax(data, dim=0).sum()) "
      ],
      "execution_count": null,
      "outputs": [
        {
          "output_type": "stream",
          "text": [
            "tensor([4.0000e-01, 2.0000e+00, 1.0000e-03, 3.2000e-01])\n",
            "tensor([0.1325, 0.6563, 0.0889, 0.1223])\n",
            "tensor(1.0000)\n"
          ],
          "name": "stdout"
        },
        {
          "output_type": "stream",
          "text": [
            "/usr/local/lib/python3.6/dist-packages/ipykernel_launcher.py:6: UserWarning: Implicit dimension choice for softmax has been deprecated. Change the call to include dim=X as an argument.\n",
            "  \n",
            "/usr/local/lib/python3.6/dist-packages/ipykernel_launcher.py:7: UserWarning: Implicit dimension choice for softmax has been deprecated. Change the call to include dim=X as an argument.\n",
            "  import sys\n"
          ],
          "name": "stderr"
        }
      ]
    },
    {
      "cell_type": "markdown",
      "metadata": {
        "id": "wKtaTSdJDxrO"
      },
      "source": [
        "6. 목적함수3개 : 평균제곱오차, 교차엔트로피, 로그우드"
      ]
    },
    {
      "cell_type": "code",
      "metadata": {
        "id": "6C9HFBXvEUsO"
      },
      "source": [
        "import torch.nn as nn\n",
        "import torch"
      ],
      "execution_count": null,
      "outputs": []
    },
    {
      "cell_type": "code",
      "metadata": {
        "colab": {
          "base_uri": "https://localhost:8080/"
        },
        "id": "rfPg8zfeEMVN",
        "outputId": "5b0df9ce-2dc3-498a-d5a1-112878c94b0f"
      },
      "source": [
        "########평균제곱오차\n",
        "input1 = torch.tensor([0.001, 0.9, 0.001, 0.098])\n",
        "target1 = torch.tensor([0, 0, 0, 1])\n",
        "criterion = nn.MSELoss()\n",
        "loss = criterion(input1, target1)\n",
        "print(loss)"
      ],
      "execution_count": null,
      "outputs": [
        {
          "output_type": "stream",
          "text": [
            "tensor(0.4059)\n"
          ],
          "name": "stdout"
        }
      ]
    },
    {
      "cell_type": "code",
      "metadata": {
        "colab": {
          "base_uri": "https://localhost:8080/"
        },
        "id": "OJscJPzfEMdU",
        "outputId": "e8025348-f7df-47ec-d81f-60679f329245"
      },
      "source": [
        "########교차엔트로피\n",
        "# input = torch.tensor([[0.001, 0.9, 0.001, 0.098]])\n",
        "# target = torch.tensor([3])\n",
        "# criterion = nn.CrossEntropyLoss()\n",
        "# loss = criterion(input, target)\n",
        "# print(loss)"
      ],
      "execution_count": null,
      "outputs": [
        {
          "output_type": "stream",
          "text": [
            "tensor(1.6184)\n"
          ],
          "name": "stdout"
        }
      ]
    },
    {
      "cell_type": "code",
      "metadata": {
        "colab": {
          "base_uri": "https://localhost:8080/"
        },
        "id": "BhFm5tOWu1io",
        "outputId": "0dadb2ef-9701-4394-eeae-1e81ada405ee"
      },
      "source": [
        "########교차엔트로피\n",
        "import math\n",
        "input = torch.tensor([0.001, 0.9, 0.001, 0.098])\n",
        "target = torch.tensor([0, 0, 0, 1])\n",
        "\n",
        "loss = -((input.log2())*target).sum()\n",
        "\n",
        "print(loss)"
      ],
      "execution_count": null,
      "outputs": [
        {
          "output_type": "stream",
          "text": [
            "tensor(3.3511)\n"
          ],
          "name": "stdout"
        }
      ]
    },
    {
      "cell_type": "code",
      "metadata": {
        "colab": {
          "base_uri": "https://localhost:8080/"
        },
        "id": "944ANQwqEg9U",
        "outputId": "a8d3a674-df3f-4a82-f298-60f520dcd3fb"
      },
      "source": [
        "########로그우도\n",
        "import math\n",
        "input = torch.tensor([0.001, 0.9, 0.001, 0.098])\n",
        "target = torch.tensor([0, 0, 0, 1])\n",
        "\n",
        "loss = -((input*target).sum()).log2()\n",
        "print(loss)"
      ],
      "execution_count": null,
      "outputs": [
        {
          "output_type": "stream",
          "text": [
            "tensor(3.3511)\n"
          ],
          "name": "stdout"
        }
      ]
    }
  ]
}